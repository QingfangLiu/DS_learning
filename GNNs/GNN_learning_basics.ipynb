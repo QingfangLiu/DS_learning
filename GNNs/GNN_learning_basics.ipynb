{
 "cells": [
  {
   "cell_type": "raw",
   "id": "bced5373-f30d-4a6c-a381-288fae3340a4",
   "metadata": {},
   "source": [
    "This is learning GNN and pyg basics using Cora dataset with basic GCN"
   ]
  },
  {
   "cell_type": "markdown",
   "id": "9ee8dc37",
   "metadata": {
    "colab_type": "text",
    "id": "view-in-github"
   },
   "source": [
    "<a href=\"https://colab.research.google.com/github/QingfangLiu/DS_learning/blob/main/GNN_learning_basics.ipynb\" target=\"_parent\"><img src=\"https://colab.research.google.com/assets/colab-badge.svg\" alt=\"Open In Colab\"/></a>"
   ]
  },
  {
   "cell_type": "code",
   "execution_count": 1,
   "id": "889378c5-3546-40b8-b7ec-5d159b27f56a",
   "metadata": {},
   "outputs": [
    {
     "name": "stdout",
     "output_type": "stream",
     "text": [
      "/usr/local/bin/python3\n"
     ]
    }
   ],
   "source": [
    "# check where this notebook is running \n",
    "# should be a virtual environment 'pyg_env' for running GNN on local\n",
    "import sys\n",
    "print(sys.executable)"
   ]
  },
  {
   "cell_type": "code",
   "execution_count": 2,
   "id": "2a5684d2-846e-4c8e-b336-a12aef077cb6",
   "metadata": {},
   "outputs": [
    {
     "name": "stdout",
     "output_type": "stream",
     "text": [
      "2.1.3\n"
     ]
    }
   ],
   "source": [
    "# check numpy version (needs to be NumPy 1.x)\n",
    "import numpy as np\n",
    "print(np.__version__)"
   ]
  },
  {
   "cell_type": "code",
   "execution_count": 6,
   "id": "9a1cfd35-a8ff-47ba-87a1-644983bdb094",
   "metadata": {
    "colab": {
     "base_uri": "https://localhost:8080/",
     "height": 384
    },
    "id": "9a1cfd35-a8ff-47ba-87a1-644983bdb094",
    "outputId": "67e85165-5faa-4ead-bffb-2f24586ea6a5"
   },
   "outputs": [],
   "source": [
    "import torch\n",
    "import torch_geometric\n",
    "from torch_geometric.data import Data\n",
    "import torch.nn.functional as F\n",
    "from torch_geometric.nn import GCNConv\n",
    "from torch_geometric.datasets import Planetoid"
   ]
  },
  {
   "cell_type": "code",
   "execution_count": 50,
   "id": "b09efe39-2387-4403-8ada-06250b241211",
   "metadata": {
    "id": "b09efe39-2387-4403-8ada-06250b241211"
   },
   "outputs": [],
   "source": [
    "dataset = Planetoid(root='/tmp/Cora', name='Cora')"
   ]
  },
  {
   "cell_type": "code",
   "execution_count": 51,
   "id": "d80aa150-cf96-423e-a9d3-e4f91cf6723a",
   "metadata": {
    "id": "d80aa150-cf96-423e-a9d3-e4f91cf6723a",
    "outputId": "78827a55-a6b6-4bb6-95a8-b929202f2487"
   },
   "outputs": [
    {
     "data": {
      "text/plain": [
       "Cora()"
      ]
     },
     "execution_count": 51,
     "metadata": {},
     "output_type": "execute_result"
    }
   ],
   "source": [
    "dataset"
   ]
  },
  {
   "cell_type": "code",
   "execution_count": 78,
   "id": "a97d5239-e2da-4601-923e-90a8e5995292",
   "metadata": {},
   "outputs": [
    {
     "data": {
      "text/plain": [
       "1"
      ]
     },
     "execution_count": 78,
     "metadata": {},
     "output_type": "execute_result"
    }
   ],
   "source": [
    "len(dataset)"
   ]
  },
  {
   "cell_type": "code",
   "execution_count": 54,
   "id": "23379ef7-4e2a-407d-a635-339547470015",
   "metadata": {
    "id": "23379ef7-4e2a-407d-a635-339547470015",
    "outputId": "ab20b74d-5796-460f-f098-427ba14650b1"
   },
   "outputs": [
    {
     "data": {
      "text/plain": [
       "7"
      ]
     },
     "execution_count": 54,
     "metadata": {},
     "output_type": "execute_result"
    }
   ],
   "source": [
    "dataset.num_classes"
   ]
  },
  {
   "cell_type": "code",
   "execution_count": 77,
   "id": "9fee9a9b-e4cc-4dd8-8e01-84e1dc6a9c98",
   "metadata": {},
   "outputs": [
    {
     "data": {
      "text/plain": [
       "True"
      ]
     },
     "execution_count": 77,
     "metadata": {},
     "output_type": "execute_result"
    }
   ],
   "source": [
    "dataset[0].is_undirected()"
   ]
  },
  {
   "cell_type": "code",
   "execution_count": 65,
   "id": "88015134-932a-4b0d-af1d-82b7a3fb288b",
   "metadata": {
    "id": "88015134-932a-4b0d-af1d-82b7a3fb288b",
    "outputId": "fd4d9114-fca9-4246-b16f-4a3dfb682d3b"
   },
   "outputs": [
    {
     "data": {
      "text/plain": [
       "['x', 'edge_index', 'y', 'test_mask', 'val_mask', 'train_mask']"
      ]
     },
     "execution_count": 65,
     "metadata": {},
     "output_type": "execute_result"
    }
   ],
   "source": [
    "dataset[0].keys() # lists actual data fields stored in the object"
   ]
  },
  {
   "cell_type": "code",
   "execution_count": 69,
   "id": "9e0ba1ef-db99-4ebc-977a-67e05b6642b5",
   "metadata": {},
   "outputs": [
    {
     "name": "stdout",
     "output_type": "stream",
     "text": [
      "['__abstractmethods__', '__annotations__', '__call__', '__cat_dim__', '__class__', '__contains__', '__copy__', '__deepcopy__', '__delattr__', '__delitem__', '__dict__', '__dir__', '__doc__', '__eq__', '__format__', '__ge__', '__getattr__', '__getattribute__', '__getitem__', '__getstate__', '__gt__', '__hash__', '__inc__', '__init__', '__init_subclass__', '__iter__', '__le__', '__len__', '__lt__', '__module__', '__ne__', '__new__', '__reduce__', '__reduce_ex__', '__repr__', '__setattr__', '__setitem__', '__setstate__', '__sizeof__', '__slots__', '__str__', '__subclasshook__', '__weakref__', '_abc_impl', '_edge_attr_cls', '_edge_to_layout', '_edges_to_layout', '_get_edge_index', '_get_tensor', '_get_tensor_size', '_multi_get_tensor', '_put_edge_index', '_put_tensor', '_remove_edge_index', '_remove_tensor', '_store', '_tensor_attr_cls', '_to_type', 'apply', 'apply_', 'batch', 'clone', 'coalesce', 'concat', 'contains_isolated_nodes', 'contains_self_loops', 'contiguous', 'coo', 'cpu', 'csc', 'csr', 'cuda', 'debug', 'detach', 'detach_', 'edge_attr', 'edge_attrs', 'edge_index', 'edge_stores', 'edge_subgraph', 'edge_weight', 'face', 'from_dict', 'generate_ids', 'get_all_edge_attrs', 'get_all_tensor_attrs', 'get_edge_index', 'get_tensor', 'get_tensor_size', 'has_isolated_nodes', 'has_self_loops', 'is_coalesced', 'is_cuda', 'is_directed', 'is_edge_attr', 'is_node_attr', 'is_sorted', 'is_sorted_by_time', 'is_undirected', 'keys', 'multi_get_tensor', 'node_attrs', 'node_offsets', 'node_stores', 'num_edge_features', 'num_edge_types', 'num_edges', 'num_faces', 'num_features', 'num_node_features', 'num_node_types', 'num_nodes', 'pin_memory', 'pos', 'put_edge_index', 'put_tensor', 'record_stream', 'remove_edge_index', 'remove_tensor', 'requires_grad_', 'share_memory_', 'size', 'snapshot', 'sort', 'sort_by_time', 'stores', 'stores_as', 'subgraph', 'time', 'to', 'to_dict', 'to_heterogeneous', 'to_namedtuple', 'up_to', 'update', 'update_tensor', 'validate', 'view', 'x', 'y']\n"
     ]
    }
   ],
   "source": [
    "# full list of data properties, computed on the fly\n",
    "print(dir(dataset[0]))"
   ]
  },
  {
   "cell_type": "code",
   "execution_count": 67,
   "id": "7044d205-8742-4775-bbc1-35b0c81b012a",
   "metadata": {
    "id": "7044d205-8742-4775-bbc1-35b0c81b012a",
    "outputId": "a6bb1ebe-f5d1-4f41-9673-d149e22b7905"
   },
   "outputs": [
    {
     "name": "stdout",
     "output_type": "stream",
     "text": [
      "# of node features: 1433\n",
      "# of nodes: 2708\n",
      "# of edges: 10556\n"
     ]
    }
   ],
   "source": [
    "# check some data properties, computed on the fly\n",
    "print('# of node features:',dataset[0].num_node_features)\n",
    "print('# of nodes:',dataset[0].num_nodes)\n",
    "print('# of edges:',dataset[0].num_edges)"
   ]
  },
  {
   "cell_type": "code",
   "execution_count": 53,
   "id": "38d72446-bad4-45fe-9af1-174e81156893",
   "metadata": {
    "id": "38d72446-bad4-45fe-9af1-174e81156893",
    "outputId": "5934ab1b-ec0e-4811-a0e0-82b83cddb4d8"
   },
   "outputs": [
    {
     "data": {
      "text/plain": [
       "torch.Size([2, 10556])"
      ]
     },
     "execution_count": 53,
     "metadata": {},
     "output_type": "execute_result"
    }
   ],
   "source": [
    "dataset[0].edge_index.shape"
   ]
  },
  {
   "cell_type": "code",
   "execution_count": 73,
   "id": "9bc33957-9813-49b3-b065-aecd6f620658",
   "metadata": {},
   "outputs": [
    {
     "data": {
      "text/plain": [
       "tensor([[ 633, 1862, 2582,  ...,  598, 1473, 2706],\n",
       "        [   0,    0,    0,  ..., 2707, 2707, 2707]])"
      ]
     },
     "execution_count": 73,
     "metadata": {},
     "output_type": "execute_result"
    }
   ],
   "source": [
    "dataset[0].edge_index  # graph conn in COO format, 2 * # edges (row1: source nodes; row2: target nodes)"
   ]
  },
  {
   "cell_type": "code",
   "execution_count": 75,
   "id": "22d5f52a-4ad5-448c-bcf5-b8925578fe25",
   "metadata": {},
   "outputs": [
    {
     "data": {
      "text/plain": [
       "torch.Size([2708, 1433])"
      ]
     },
     "execution_count": 75,
     "metadata": {},
     "output_type": "execute_result"
    }
   ],
   "source": [
    "dataset[0].x.shape"
   ]
  },
  {
   "cell_type": "code",
   "execution_count": 61,
   "id": "32758365-bad6-403a-84c6-40e0fab2f7f8",
   "metadata": {},
   "outputs": [
    {
     "data": {
      "text/plain": [
       "torch.Size([2708])"
      ]
     },
     "execution_count": 61,
     "metadata": {},
     "output_type": "execute_result"
    }
   ],
   "source": [
    "dataset[0].train_mask.shape"
   ]
  },
  {
   "cell_type": "code",
   "execution_count": 57,
   "id": "bc5b71d8-ded8-4572-b3eb-f4656fd42a24",
   "metadata": {
    "id": "bc5b71d8-ded8-4572-b3eb-f4656fd42a24"
   },
   "outputs": [],
   "source": [
    "class GCN(torch.nn.Module): # this is a 2-layer GCN model for node classification\n",
    "    def __init__(self):\n",
    "        super().__init__()\n",
    "        self.conv1 = GCNConv(dataset.num_node_features, 16) # graph convolutional layer\n",
    "        self.conv2 = GCNConv(16, dataset.num_classes)\n",
    "\n",
    "    def forward(self, data):\n",
    "        x, edge_index = data.x, data.edge_index\n",
    "\n",
    "        x = self.conv1(x, edge_index)\n",
    "        x = F.relu(x)\n",
    "        x = F.dropout(x, training=self.training) # apply dropout for regularization during training\n",
    "        x = self.conv2(x, edge_index) # map to class scores\n",
    "\n",
    "        return F.log_softmax(x, dim=1) # output log-prob for each node"
   ]
  },
  {
   "cell_type": "code",
   "execution_count": 59,
   "id": "7548476e-a55d-491f-b68a-04c590f0069e",
   "metadata": {
    "id": "7548476e-a55d-491f-b68a-04c590f0069e"
   },
   "outputs": [],
   "source": [
    "# training for 200 epochs\n",
    "device = torch.device('cuda' if torch.cuda.is_available() else 'cpu')\n",
    "model = GCN().to(device) # initialize model and move it to the selected device\n",
    "data = dataset[0].to(device) # load the 1st graph from the dataset and move to the same device\n",
    "optimizer = torch.optim.Adam(model.parameters(), lr=0.01, weight_decay=5e-4)\n",
    "\n",
    "model.train()\n",
    "for epoch in range(200):\n",
    "    optimizer.zero_grad() # clear previous gradients\n",
    "    out = model(data) # forward pass\n",
    "    loss = F.nll_loss(out[data.train_mask], data.y[data.train_mask]) # compute loss only on training nodes using train_mask\n",
    "    loss.backward() # backpropagation\n",
    "    optimizer.step() # update weights"
   ]
  },
  {
   "cell_type": "code",
   "execution_count": 81,
   "id": "5c6dc660-72e0-48b0-8cce-49829538dc8a",
   "metadata": {
    "id": "5c6dc660-72e0-48b0-8cce-49829538dc8a"
   },
   "outputs": [
    {
     "name": "stdout",
     "output_type": "stream",
     "text": [
      "Accuracy: 0.8020\n"
     ]
    }
   ],
   "source": [
    "model.eval()\n",
    "pred = model(data).argmax(dim=1)\n",
    "correct = (pred[data.test_mask] == data.y[data.test_mask]).sum()\n",
    "acc = int(correct) / int(data.test_mask.sum())\n",
    "print(f'Accuracy: {acc:.4f}')"
   ]
  },
  {
   "cell_type": "code",
   "execution_count": null,
   "id": "15e08240-f610-4ea2-bc93-c8617c49ebbb",
   "metadata": {},
   "outputs": [],
   "source": []
  }
 ],
 "metadata": {
  "colab": {
   "include_colab_link": true,
   "provenance": []
  },
  "kernelspec": {
   "display_name": "Python 3 (ipykernel)",
   "language": "python",
   "name": "python3"
  },
  "language_info": {
   "codemirror_mode": {
    "name": "ipython",
    "version": 3
   },
   "file_extension": ".py",
   "mimetype": "text/x-python",
   "name": "python",
   "nbconvert_exporter": "python",
   "pygments_lexer": "ipython3",
   "version": "3.13.5"
  }
 },
 "nbformat": 4,
 "nbformat_minor": 5
}
