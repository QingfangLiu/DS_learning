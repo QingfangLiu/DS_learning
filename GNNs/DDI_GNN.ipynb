{
  "nbformat": 4,
  "nbformat_minor": 0,
  "metadata": {
    "colab": {
      "provenance": [],
      "gpuType": "T4",
      "authorship_tag": "ABX9TyN8jaV7YlhzOGk4/e8YY4h3",
      "include_colab_link": true
    },
    "kernelspec": {
      "name": "python3",
      "display_name": "Python 3"
    },
    "language_info": {
      "name": "python"
    },
    "accelerator": "GPU"
  },
  "cells": [
    {
      "cell_type": "markdown",
      "metadata": {
        "id": "view-in-github",
        "colab_type": "text"
      },
      "source": [
        "<a href=\"https://colab.research.google.com/github/QingfangLiu/ml-dl-notebooks/blob/main/DDI_GNN.ipynb\" target=\"_parent\"><img src=\"https://colab.research.google.com/assets/colab-badge.svg\" alt=\"Open In Colab\"/></a>"
      ]
    },
    {
      "cell_type": "markdown",
      "source": [
        "This is my implementation of the GNN GraghSage model on the OGB DDI dataset"
      ],
      "metadata": {
        "id": "pAPanMl8Oh6e"
      }
    },
    {
      "cell_type": "code",
      "source": [
        "# check pytorch version and its cuda support\n",
        "import torch\n",
        "print(torch.__version__)"
      ],
      "metadata": {
        "colab": {
          "base_uri": "https://localhost:8080/"
        },
        "id": "gtvXMTgkJ4_q",
        "outputId": "94e51ed5-1ae0-4c4f-8a1c-d102dd339beb"
      },
      "execution_count": null,
      "outputs": [
        {
          "output_type": "stream",
          "name": "stdout",
          "text": [
            "2.6.0+cu124\n"
          ]
        }
      ]
    },
    {
      "cell_type": "code",
      "source": [
        "%%bash\n",
        "TORCH_VER=2.6.0\n",
        "CUDA_VER=cu124\n",
        "\n",
        "# Install dependencies\n",
        "pip install torch-scatter -f https://data.pyg.org/whl/torch-${TORCH_VER}+${CUDA_VER}.html\n",
        "pip install torch-sparse -f https://data.pyg.org/whl/torch-${TORCH_VER}+${CUDA_VER}.html\n",
        "pip install torch-geometric\n",
        "pip install ogb"
      ],
      "metadata": {
        "colab": {
          "base_uri": "https://localhost:8080/"
        },
        "id": "OTPiaXBXKPHn",
        "outputId": "33c6c6e7-3f1b-4af3-a408-98f229c71adb"
      },
      "execution_count": null,
      "outputs": [
        {
          "output_type": "stream",
          "name": "stdout",
          "text": [
            "Looking in links: https://data.pyg.org/whl/torch-2.6.0+cu124.html\n",
            "Collecting torch-scatter\n",
            "  Downloading https://data.pyg.org/whl/torch-2.6.0%2Bcu124/torch_scatter-2.1.2%2Bpt26cu124-cp311-cp311-linux_x86_64.whl (10.8 MB)\n",
            "     ━━━━━━━━━━━━━━━━━━━━━━━━━━━━━━━━━━━━━━━━ 10.8/10.8 MB 48.7 MB/s eta 0:00:00\n",
            "Installing collected packages: torch-scatter\n",
            "Successfully installed torch-scatter-2.1.2+pt26cu124\n",
            "Looking in links: https://data.pyg.org/whl/torch-2.6.0+cu124.html\n",
            "Collecting torch-sparse\n",
            "  Downloading https://data.pyg.org/whl/torch-2.6.0%2Bcu124/torch_sparse-0.6.18%2Bpt26cu124-cp311-cp311-linux_x86_64.whl (5.0 MB)\n",
            "     ━━━━━━━━━━━━━━━━━━━━━━━━━━━━━━━━━━━━━━━━ 5.0/5.0 MB 41.6 MB/s eta 0:00:00\n",
            "Requirement already satisfied: scipy in /usr/local/lib/python3.11/dist-packages (from torch-sparse) (1.15.3)\n",
            "Requirement already satisfied: numpy<2.5,>=1.23.5 in /usr/local/lib/python3.11/dist-packages (from scipy->torch-sparse) (2.0.2)\n",
            "Installing collected packages: torch-sparse\n",
            "Successfully installed torch-sparse-0.6.18+pt26cu124\n",
            "Collecting torch-geometric\n",
            "  Downloading torch_geometric-2.6.1-py3-none-any.whl.metadata (63 kB)\n",
            "     ━━━━━━━━━━━━━━━━━━━━━━━━━━━━━━━━━━━━━━━━ 63.1/63.1 kB 1.7 MB/s eta 0:00:00\n",
            "Requirement already satisfied: aiohttp in /usr/local/lib/python3.11/dist-packages (from torch-geometric) (3.11.15)\n",
            "Requirement already satisfied: fsspec in /usr/local/lib/python3.11/dist-packages (from torch-geometric) (2025.3.2)\n",
            "Requirement already satisfied: jinja2 in /usr/local/lib/python3.11/dist-packages (from torch-geometric) (3.1.6)\n",
            "Requirement already satisfied: numpy in /usr/local/lib/python3.11/dist-packages (from torch-geometric) (2.0.2)\n",
            "Requirement already satisfied: psutil>=5.8.0 in /usr/local/lib/python3.11/dist-packages (from torch-geometric) (5.9.5)\n",
            "Requirement already satisfied: pyparsing in /usr/local/lib/python3.11/dist-packages (from torch-geometric) (3.2.3)\n",
            "Requirement already satisfied: requests in /usr/local/lib/python3.11/dist-packages (from torch-geometric) (2.32.3)\n",
            "Requirement already satisfied: tqdm in /usr/local/lib/python3.11/dist-packages (from torch-geometric) (4.67.1)\n",
            "Requirement already satisfied: aiohappyeyeballs>=2.3.0 in /usr/local/lib/python3.11/dist-packages (from aiohttp->torch-geometric) (2.6.1)\n",
            "Requirement already satisfied: aiosignal>=1.1.2 in /usr/local/lib/python3.11/dist-packages (from aiohttp->torch-geometric) (1.3.2)\n",
            "Requirement already satisfied: attrs>=17.3.0 in /usr/local/lib/python3.11/dist-packages (from aiohttp->torch-geometric) (25.3.0)\n",
            "Requirement already satisfied: frozenlist>=1.1.1 in /usr/local/lib/python3.11/dist-packages (from aiohttp->torch-geometric) (1.7.0)\n",
            "Requirement already satisfied: multidict<7.0,>=4.5 in /usr/local/lib/python3.11/dist-packages (from aiohttp->torch-geometric) (6.4.4)\n",
            "Requirement already satisfied: propcache>=0.2.0 in /usr/local/lib/python3.11/dist-packages (from aiohttp->torch-geometric) (0.3.2)\n",
            "Requirement already satisfied: yarl<2.0,>=1.17.0 in /usr/local/lib/python3.11/dist-packages (from aiohttp->torch-geometric) (1.20.1)\n",
            "Requirement already satisfied: MarkupSafe>=2.0 in /usr/local/lib/python3.11/dist-packages (from jinja2->torch-geometric) (3.0.2)\n",
            "Requirement already satisfied: charset-normalizer<4,>=2 in /usr/local/lib/python3.11/dist-packages (from requests->torch-geometric) (3.4.2)\n",
            "Requirement already satisfied: idna<4,>=2.5 in /usr/local/lib/python3.11/dist-packages (from requests->torch-geometric) (3.10)\n",
            "Requirement already satisfied: urllib3<3,>=1.21.1 in /usr/local/lib/python3.11/dist-packages (from requests->torch-geometric) (2.4.0)\n",
            "Requirement already satisfied: certifi>=2017.4.17 in /usr/local/lib/python3.11/dist-packages (from requests->torch-geometric) (2025.6.15)\n",
            "Downloading torch_geometric-2.6.1-py3-none-any.whl (1.1 MB)\n",
            "   ━━━━━━━━━━━━━━━━━━━━━━━━━━━━━━━━━━━━━━━━ 1.1/1.1 MB 18.1 MB/s eta 0:00:00\n",
            "Installing collected packages: torch-geometric\n",
            "Successfully installed torch-geometric-2.6.1\n",
            "Collecting ogb\n",
            "  Downloading ogb-1.3.6-py3-none-any.whl.metadata (6.2 kB)\n",
            "Requirement already satisfied: torch>=1.6.0 in /usr/local/lib/python3.11/dist-packages (from ogb) (2.6.0+cu124)\n",
            "Requirement already satisfied: numpy>=1.16.0 in /usr/local/lib/python3.11/dist-packages (from ogb) (2.0.2)\n",
            "Requirement already satisfied: tqdm>=4.29.0 in /usr/local/lib/python3.11/dist-packages (from ogb) (4.67.1)\n",
            "Requirement already satisfied: scikit-learn>=0.20.0 in /usr/local/lib/python3.11/dist-packages (from ogb) (1.6.1)\n",
            "Requirement already satisfied: pandas>=0.24.0 in /usr/local/lib/python3.11/dist-packages (from ogb) (2.2.2)\n",
            "Requirement already satisfied: six>=1.12.0 in /usr/local/lib/python3.11/dist-packages (from ogb) (1.17.0)\n",
            "Requirement already satisfied: urllib3>=1.24.0 in /usr/local/lib/python3.11/dist-packages (from ogb) (2.4.0)\n",
            "Collecting outdated>=0.2.0 (from ogb)\n",
            "  Downloading outdated-0.2.2-py2.py3-none-any.whl.metadata (4.7 kB)\n",
            "Requirement already satisfied: setuptools>=44 in /usr/local/lib/python3.11/dist-packages (from outdated>=0.2.0->ogb) (75.2.0)\n",
            "Collecting littleutils (from outdated>=0.2.0->ogb)\n",
            "  Downloading littleutils-0.2.4-py3-none-any.whl.metadata (679 bytes)\n",
            "Requirement already satisfied: requests in /usr/local/lib/python3.11/dist-packages (from outdated>=0.2.0->ogb) (2.32.3)\n",
            "Requirement already satisfied: python-dateutil>=2.8.2 in /usr/local/lib/python3.11/dist-packages (from pandas>=0.24.0->ogb) (2.9.0.post0)\n",
            "Requirement already satisfied: pytz>=2020.1 in /usr/local/lib/python3.11/dist-packages (from pandas>=0.24.0->ogb) (2025.2)\n",
            "Requirement already satisfied: tzdata>=2022.7 in /usr/local/lib/python3.11/dist-packages (from pandas>=0.24.0->ogb) (2025.2)\n",
            "Requirement already satisfied: scipy>=1.6.0 in /usr/local/lib/python3.11/dist-packages (from scikit-learn>=0.20.0->ogb) (1.15.3)\n",
            "Requirement already satisfied: joblib>=1.2.0 in /usr/local/lib/python3.11/dist-packages (from scikit-learn>=0.20.0->ogb) (1.5.1)\n",
            "Requirement already satisfied: threadpoolctl>=3.1.0 in /usr/local/lib/python3.11/dist-packages (from scikit-learn>=0.20.0->ogb) (3.6.0)\n",
            "Requirement already satisfied: filelock in /usr/local/lib/python3.11/dist-packages (from torch>=1.6.0->ogb) (3.18.0)\n",
            "Requirement already satisfied: typing-extensions>=4.10.0 in /usr/local/lib/python3.11/dist-packages (from torch>=1.6.0->ogb) (4.14.0)\n",
            "Requirement already satisfied: networkx in /usr/local/lib/python3.11/dist-packages (from torch>=1.6.0->ogb) (3.5)\n",
            "Requirement already satisfied: jinja2 in /usr/local/lib/python3.11/dist-packages (from torch>=1.6.0->ogb) (3.1.6)\n",
            "Requirement already satisfied: fsspec in /usr/local/lib/python3.11/dist-packages (from torch>=1.6.0->ogb) (2025.3.2)\n",
            "Collecting nvidia-cuda-nvrtc-cu12==12.4.127 (from torch>=1.6.0->ogb)\n",
            "  Downloading nvidia_cuda_nvrtc_cu12-12.4.127-py3-none-manylinux2014_x86_64.whl.metadata (1.5 kB)\n",
            "Collecting nvidia-cuda-runtime-cu12==12.4.127 (from torch>=1.6.0->ogb)\n",
            "  Downloading nvidia_cuda_runtime_cu12-12.4.127-py3-none-manylinux2014_x86_64.whl.metadata (1.5 kB)\n",
            "Collecting nvidia-cuda-cupti-cu12==12.4.127 (from torch>=1.6.0->ogb)\n",
            "  Downloading nvidia_cuda_cupti_cu12-12.4.127-py3-none-manylinux2014_x86_64.whl.metadata (1.6 kB)\n",
            "Collecting nvidia-cudnn-cu12==9.1.0.70 (from torch>=1.6.0->ogb)\n",
            "  Downloading nvidia_cudnn_cu12-9.1.0.70-py3-none-manylinux2014_x86_64.whl.metadata (1.6 kB)\n",
            "Collecting nvidia-cublas-cu12==12.4.5.8 (from torch>=1.6.0->ogb)\n",
            "  Downloading nvidia_cublas_cu12-12.4.5.8-py3-none-manylinux2014_x86_64.whl.metadata (1.5 kB)\n",
            "Collecting nvidia-cufft-cu12==11.2.1.3 (from torch>=1.6.0->ogb)\n",
            "  Downloading nvidia_cufft_cu12-11.2.1.3-py3-none-manylinux2014_x86_64.whl.metadata (1.5 kB)\n",
            "Collecting nvidia-curand-cu12==10.3.5.147 (from torch>=1.6.0->ogb)\n",
            "  Downloading nvidia_curand_cu12-10.3.5.147-py3-none-manylinux2014_x86_64.whl.metadata (1.5 kB)\n",
            "Collecting nvidia-cusolver-cu12==11.6.1.9 (from torch>=1.6.0->ogb)\n",
            "  Downloading nvidia_cusolver_cu12-11.6.1.9-py3-none-manylinux2014_x86_64.whl.metadata (1.6 kB)\n",
            "Collecting nvidia-cusparse-cu12==12.3.1.170 (from torch>=1.6.0->ogb)\n",
            "  Downloading nvidia_cusparse_cu12-12.3.1.170-py3-none-manylinux2014_x86_64.whl.metadata (1.6 kB)\n",
            "Requirement already satisfied: nvidia-cusparselt-cu12==0.6.2 in /usr/local/lib/python3.11/dist-packages (from torch>=1.6.0->ogb) (0.6.2)\n",
            "Requirement already satisfied: nvidia-nccl-cu12==2.21.5 in /usr/local/lib/python3.11/dist-packages (from torch>=1.6.0->ogb) (2.21.5)\n",
            "Requirement already satisfied: nvidia-nvtx-cu12==12.4.127 in /usr/local/lib/python3.11/dist-packages (from torch>=1.6.0->ogb) (12.4.127)\n",
            "Collecting nvidia-nvjitlink-cu12==12.4.127 (from torch>=1.6.0->ogb)\n",
            "  Downloading nvidia_nvjitlink_cu12-12.4.127-py3-none-manylinux2014_x86_64.whl.metadata (1.5 kB)\n",
            "Requirement already satisfied: triton==3.2.0 in /usr/local/lib/python3.11/dist-packages (from torch>=1.6.0->ogb) (3.2.0)\n",
            "Requirement already satisfied: sympy==1.13.1 in /usr/local/lib/python3.11/dist-packages (from torch>=1.6.0->ogb) (1.13.1)\n",
            "Requirement already satisfied: mpmath<1.4,>=1.1.0 in /usr/local/lib/python3.11/dist-packages (from sympy==1.13.1->torch>=1.6.0->ogb) (1.3.0)\n",
            "Requirement already satisfied: MarkupSafe>=2.0 in /usr/local/lib/python3.11/dist-packages (from jinja2->torch>=1.6.0->ogb) (3.0.2)\n",
            "Requirement already satisfied: charset-normalizer<4,>=2 in /usr/local/lib/python3.11/dist-packages (from requests->outdated>=0.2.0->ogb) (3.4.2)\n",
            "Requirement already satisfied: idna<4,>=2.5 in /usr/local/lib/python3.11/dist-packages (from requests->outdated>=0.2.0->ogb) (3.10)\n",
            "Requirement already satisfied: certifi>=2017.4.17 in /usr/local/lib/python3.11/dist-packages (from requests->outdated>=0.2.0->ogb) (2025.6.15)\n",
            "Downloading ogb-1.3.6-py3-none-any.whl (78 kB)\n",
            "   ━━━━━━━━━━━━━━━━━━━━━━━━━━━━━━━━━━━━━━━━ 78.8/78.8 kB 3.0 MB/s eta 0:00:00\n",
            "Downloading outdated-0.2.2-py2.py3-none-any.whl (7.5 kB)\n",
            "Downloading nvidia_cublas_cu12-12.4.5.8-py3-none-manylinux2014_x86_64.whl (363.4 MB)\n",
            "   ━━━━━━━━━━━━━━━━━━━━━━━━━━━━━━━━━━━━━━━━ 363.4/363.4 MB 3.8 MB/s eta 0:00:00\n",
            "Downloading nvidia_cuda_cupti_cu12-12.4.127-py3-none-manylinux2014_x86_64.whl (13.8 MB)\n",
            "   ━━━━━━━━━━━━━━━━━━━━━━━━━━━━━━━━━━━━━━━━ 13.8/13.8 MB 119.2 MB/s eta 0:00:00\n",
            "Downloading nvidia_cuda_nvrtc_cu12-12.4.127-py3-none-manylinux2014_x86_64.whl (24.6 MB)\n",
            "   ━━━━━━━━━━━━━━━━━━━━━━━━━━━━━━━━━━━━━━━━ 24.6/24.6 MB 95.9 MB/s eta 0:00:00\n",
            "Downloading nvidia_cuda_runtime_cu12-12.4.127-py3-none-manylinux2014_x86_64.whl (883 kB)\n",
            "   ━━━━━━━━━━━━━━━━━━━━━━━━━━━━━━━━━━━━━━━━ 883.7/883.7 kB 46.1 MB/s eta 0:00:00\n",
            "Downloading nvidia_cudnn_cu12-9.1.0.70-py3-none-manylinux2014_x86_64.whl (664.8 MB)\n",
            "   ━━━━━━━━━━━━━━━━━━━━━━━━━━━━━━━━━━━━━━━━ 664.8/664.8 MB 2.1 MB/s eta 0:00:00\n",
            "Downloading nvidia_cufft_cu12-11.2.1.3-py3-none-manylinux2014_x86_64.whl (211.5 MB)\n",
            "   ━━━━━━━━━━━━━━━━━━━━━━━━━━━━━━━━━━━━━━━━ 211.5/211.5 MB 5.9 MB/s eta 0:00:00\n",
            "Downloading nvidia_curand_cu12-10.3.5.147-py3-none-manylinux2014_x86_64.whl (56.3 MB)\n",
            "   ━━━━━━━━━━━━━━━━━━━━━━━━━━━━━━━━━━━━━━━━ 56.3/56.3 MB 13.3 MB/s eta 0:00:00\n",
            "Downloading nvidia_cusolver_cu12-11.6.1.9-py3-none-manylinux2014_x86_64.whl (127.9 MB)\n",
            "   ━━━━━━━━━━━━━━━━━━━━━━━━━━━━━━━━━━━━━━━━ 127.9/127.9 MB 8.2 MB/s eta 0:00:00\n",
            "Downloading nvidia_cusparse_cu12-12.3.1.170-py3-none-manylinux2014_x86_64.whl (207.5 MB)\n",
            "   ━━━━━━━━━━━━━━━━━━━━━━━━━━━━━━━━━━━━━━━━ 207.5/207.5 MB 5.9 MB/s eta 0:00:00\n",
            "Downloading nvidia_nvjitlink_cu12-12.4.127-py3-none-manylinux2014_x86_64.whl (21.1 MB)\n",
            "   ━━━━━━━━━━━━━━━━━━━━━━━━━━━━━━━━━━━━━━━━ 21.1/21.1 MB 81.6 MB/s eta 0:00:00\n",
            "Downloading littleutils-0.2.4-py3-none-any.whl (8.1 kB)\n",
            "Installing collected packages: nvidia-nvjitlink-cu12, nvidia-curand-cu12, nvidia-cufft-cu12, nvidia-cuda-runtime-cu12, nvidia-cuda-nvrtc-cu12, nvidia-cuda-cupti-cu12, nvidia-cublas-cu12, littleutils, outdated, nvidia-cusparse-cu12, nvidia-cudnn-cu12, nvidia-cusolver-cu12, ogb\n",
            "  Attempting uninstall: nvidia-nvjitlink-cu12\n",
            "    Found existing installation: nvidia-nvjitlink-cu12 12.5.82\n",
            "    Uninstalling nvidia-nvjitlink-cu12-12.5.82:\n",
            "      Successfully uninstalled nvidia-nvjitlink-cu12-12.5.82\n",
            "  Attempting uninstall: nvidia-curand-cu12\n",
            "    Found existing installation: nvidia-curand-cu12 10.3.6.82\n",
            "    Uninstalling nvidia-curand-cu12-10.3.6.82:\n",
            "      Successfully uninstalled nvidia-curand-cu12-10.3.6.82\n",
            "  Attempting uninstall: nvidia-cufft-cu12\n",
            "    Found existing installation: nvidia-cufft-cu12 11.2.3.61\n",
            "    Uninstalling nvidia-cufft-cu12-11.2.3.61:\n",
            "      Successfully uninstalled nvidia-cufft-cu12-11.2.3.61\n",
            "  Attempting uninstall: nvidia-cuda-runtime-cu12\n",
            "    Found existing installation: nvidia-cuda-runtime-cu12 12.5.82\n",
            "    Uninstalling nvidia-cuda-runtime-cu12-12.5.82:\n",
            "      Successfully uninstalled nvidia-cuda-runtime-cu12-12.5.82\n",
            "  Attempting uninstall: nvidia-cuda-nvrtc-cu12\n",
            "    Found existing installation: nvidia-cuda-nvrtc-cu12 12.5.82\n",
            "    Uninstalling nvidia-cuda-nvrtc-cu12-12.5.82:\n",
            "      Successfully uninstalled nvidia-cuda-nvrtc-cu12-12.5.82\n",
            "  Attempting uninstall: nvidia-cuda-cupti-cu12\n",
            "    Found existing installation: nvidia-cuda-cupti-cu12 12.5.82\n",
            "    Uninstalling nvidia-cuda-cupti-cu12-12.5.82:\n",
            "      Successfully uninstalled nvidia-cuda-cupti-cu12-12.5.82\n",
            "  Attempting uninstall: nvidia-cublas-cu12\n",
            "    Found existing installation: nvidia-cublas-cu12 12.5.3.2\n",
            "    Uninstalling nvidia-cublas-cu12-12.5.3.2:\n",
            "      Successfully uninstalled nvidia-cublas-cu12-12.5.3.2\n",
            "  Attempting uninstall: nvidia-cusparse-cu12\n",
            "    Found existing installation: nvidia-cusparse-cu12 12.5.1.3\n",
            "    Uninstalling nvidia-cusparse-cu12-12.5.1.3:\n",
            "      Successfully uninstalled nvidia-cusparse-cu12-12.5.1.3\n",
            "  Attempting uninstall: nvidia-cudnn-cu12\n",
            "    Found existing installation: nvidia-cudnn-cu12 9.3.0.75\n",
            "    Uninstalling nvidia-cudnn-cu12-9.3.0.75:\n",
            "      Successfully uninstalled nvidia-cudnn-cu12-9.3.0.75\n",
            "  Attempting uninstall: nvidia-cusolver-cu12\n",
            "    Found existing installation: nvidia-cusolver-cu12 11.6.3.83\n",
            "    Uninstalling nvidia-cusolver-cu12-11.6.3.83:\n",
            "      Successfully uninstalled nvidia-cusolver-cu12-11.6.3.83\n",
            "Successfully installed littleutils-0.2.4 nvidia-cublas-cu12-12.4.5.8 nvidia-cuda-cupti-cu12-12.4.127 nvidia-cuda-nvrtc-cu12-12.4.127 nvidia-cuda-runtime-cu12-12.4.127 nvidia-cudnn-cu12-9.1.0.70 nvidia-cufft-cu12-11.2.1.3 nvidia-curand-cu12-10.3.5.147 nvidia-cusolver-cu12-11.6.1.9 nvidia-cusparse-cu12-12.3.1.170 nvidia-nvjitlink-cu12-12.4.127 ogb-1.3.6 outdated-0.2.2\n"
          ]
        }
      ]
    },
    {
      "cell_type": "code",
      "source": [
        "# imports\n",
        "import torch\n",
        "import torch_geometric\n",
        "print(torch.__version__)\n",
        "print(torch_geometric.__version__)"
      ],
      "metadata": {
        "colab": {
          "base_uri": "https://localhost:8080/"
        },
        "id": "9TtjszCCK0rk",
        "outputId": "3d50140e-0a88-4070-d7fb-7fa223962b00"
      },
      "execution_count": null,
      "outputs": [
        {
          "output_type": "stream",
          "name": "stdout",
          "text": [
            "2.6.0+cu124\n",
            "2.6.1\n"
          ]
        }
      ]
    },
    {
      "cell_type": "code",
      "source": [
        "# imports\n",
        "import torch.nn as nn\n",
        "import torch.nn.functional as F\n",
        "\n",
        "from torch_geometric.loader import DataLoader\n",
        "from torch_geometric.nn import SAGEConv\n",
        "from torch_geometric.utils import negative_sampling\n",
        "from tqdm import trange # use progress bar"
      ],
      "metadata": {
        "id": "5det4PmvLZxu"
      },
      "execution_count": null,
      "outputs": []
    },
    {
      "cell_type": "code",
      "source": [
        "device = torch.device('cuda' if torch.cuda.is_available() else 'cpu')\n",
        "print(device)"
      ],
      "metadata": {
        "colab": {
          "base_uri": "https://localhost:8080/"
        },
        "id": "P8x-vaA2MBYa",
        "outputId": "2eb6c9b9-c42a-4833-84a9-4c8f4b422432"
      },
      "execution_count": null,
      "outputs": [
        {
          "output_type": "stream",
          "name": "stdout",
          "text": [
            "cuda\n"
          ]
        }
      ]
    },
    {
      "cell_type": "code",
      "source": [
        "# load ogbl-ddi dataset\n",
        "from ogb.linkproppred import PygLinkPropPredDataset\n",
        "import torch\n",
        "import functools\n",
        "\n",
        "# Temporarily patch torch.load to set weights_only=False\n",
        "original_torch_load = torch.load\n",
        "def patched_torch_load(*args, **kwargs):\n",
        "    kwargs['weights_only'] = False\n",
        "    return original_torch_load(*args, **kwargs)\n",
        "\n",
        "torch.load = patched_torch_load\n",
        "\n",
        "try:\n",
        "    dataset = PygLinkPropPredDataset(name='ogbl-ddi')\n",
        "finally:\n",
        "    # Restore the original torch.load function\n",
        "    torch.load = original_torch_load"
      ],
      "metadata": {
        "id": "WuJCUdJ9MGlZ",
        "colab": {
          "base_uri": "https://localhost:8080/"
        },
        "outputId": "c5cd71a3-f98a-453f-febe-9ccceff84868"
      },
      "execution_count": null,
      "outputs": [
        {
          "output_type": "stream",
          "name": "stdout",
          "text": [
            "Downloading http://snap.stanford.edu/ogb/data/linkproppred/ddi.zip\n"
          ]
        },
        {
          "output_type": "stream",
          "name": "stderr",
          "text": [
            "Downloaded 0.04 GB: 100%|██████████| 46/46 [00:02<00:00, 16.62it/s]\n"
          ]
        },
        {
          "output_type": "stream",
          "name": "stdout",
          "text": [
            "Extracting dataset/ddi.zip\n"
          ]
        },
        {
          "output_type": "stream",
          "name": "stderr",
          "text": [
            "Processing...\n"
          ]
        },
        {
          "output_type": "stream",
          "name": "stdout",
          "text": [
            "Loading necessary files...\n",
            "This might take a while.\n",
            "Processing graphs...\n"
          ]
        },
        {
          "output_type": "stream",
          "name": "stderr",
          "text": [
            "100%|██████████| 1/1 [00:00<00:00, 35.86it/s]\n"
          ]
        },
        {
          "output_type": "stream",
          "name": "stdout",
          "text": [
            "Converting graphs into PyG objects...\n"
          ]
        },
        {
          "output_type": "stream",
          "name": "stderr",
          "text": [
            "100%|██████████| 1/1 [00:00<00:00, 2555.94it/s]"
          ]
        },
        {
          "output_type": "stream",
          "name": "stdout",
          "text": [
            "Saving...\n"
          ]
        },
        {
          "output_type": "stream",
          "name": "stderr",
          "text": [
            "\n",
            "Done!\n"
          ]
        }
      ]
    },
    {
      "cell_type": "code",
      "source": [
        "# This graph only contains training edges but no node features\n",
        "\n",
        "ddi_graph = dataset[0]\n",
        "\n",
        "print(f'DDI graph object: {ddi_graph}')\n",
        "print(f'Number of nodes |V|: {ddi_graph.num_nodes}')\n",
        "print(f'Number of (training) edges |E|: {ddi_graph.num_edges}')\n",
        "print(f'Is undirected: {ddi_graph.is_undirected()}')\n",
        "# Note that since the graph is undirected, PyG includes both (u, v) and (v, u) as edges\n",
        "print(f'Average node degree: {ddi_graph.num_edges / ddi_graph.num_nodes:.2f}')\n",
        "print(f'Number of node features: {ddi_graph.num_node_features}')\n",
        "print(f'Has isolated nodes: {ddi_graph.has_isolated_nodes()}')\n",
        "print(f'Has self-loops: {ddi_graph.has_self_loops()}')"
      ],
      "metadata": {
        "colab": {
          "base_uri": "https://localhost:8080/"
        },
        "id": "iXoJxwqVOPMh",
        "outputId": "c6806aad-8399-4151-f383-772b5ca83eb7"
      },
      "execution_count": null,
      "outputs": [
        {
          "output_type": "stream",
          "name": "stdout",
          "text": [
            "DDI graph object: Data(num_nodes=4267, edge_index=[2, 2135822])\n",
            "Number of nodes |V|: 4267\n",
            "Number of (training) edges |E|: 2135822\n",
            "Is undirected: True\n",
            "Average node degree: 500.54\n",
            "Number of node features: 0\n",
            "Has isolated nodes: False\n",
            "Has self-loops: False\n"
          ]
        }
      ]
    },
    {
      "cell_type": "code",
      "source": [
        "# dataset split using protein-target split\n",
        "# Temporarily patch torch.load to set weights_only=False for get_edge_split as well\n",
        "original_torch_load = torch.load\n",
        "def patched_torch_load(*args, **kwargs):\n",
        "    kwargs['weights_only'] = False\n",
        "    return original_torch_load(*args, **kwargs)\n",
        "\n",
        "torch.load = patched_torch_load\n",
        "\n",
        "try:\n",
        "    split_edge = dataset.get_edge_split()\n",
        "finally:\n",
        "    # Restore the original torch.load function\n",
        "    torch.load = original_torch_load\n",
        "\n",
        "train_edges = split_edge['train']\n",
        "valid_edges = split_edge['valid']\n",
        "test_edges = split_edge['test']"
      ],
      "metadata": {
        "id": "pRDXI-GIPCEd"
      },
      "execution_count": null,
      "outputs": []
    },
    {
      "cell_type": "code",
      "source": [
        "print(f'Number of training positive edges: {train_edges[\"edge\"].shape[0]}')\n",
        "print(f'Number of validation positive edges: {valid_edges[\"edge\"].shape[0]}')\n",
        "print(f'Number of validation negative edges: {valid_edges[\"edge_neg\"].shape[0]}')\n",
        "print(f'Number of test positive edges: {test_edges[\"edge\"].shape[0]}')\n",
        "print(f'Number of test negative edges: {valid_edges[\"edge_neg\"].shape[0]}')"
      ],
      "metadata": {
        "colab": {
          "base_uri": "https://localhost:8080/"
        },
        "id": "VW4M7EtfPM4Q",
        "outputId": "1f5e94bd-10ec-4f27-bf55-688d6f0dd8a2"
      },
      "execution_count": null,
      "outputs": [
        {
          "output_type": "stream",
          "name": "stdout",
          "text": [
            "Number of training positive edges: 1067911\n",
            "Number of validation positive edges: 133489\n",
            "Number of validation negative edges: 101882\n",
            "Number of test positive edges: 133489\n",
            "Number of test negative edges: 101882\n"
          ]
        }
      ]
    },
    {
      "cell_type": "code",
      "source": [
        "train_edges[\"edge\"]"
      ],
      "metadata": {
        "colab": {
          "base_uri": "https://localhost:8080/"
        },
        "id": "IGcrxcE_P1k_",
        "outputId": "abb4b5d9-d152-4869-c584-ab9086b41ee8"
      },
      "execution_count": null,
      "outputs": [
        {
          "output_type": "execute_result",
          "data": {
            "text/plain": [
              "tensor([[4039, 2424],\n",
              "        [4039,  225],\n",
              "        [4039, 3901],\n",
              "        ...,\n",
              "        [ 647,  708],\n",
              "        [ 708,  338],\n",
              "        [ 835, 3554]])"
            ]
          },
          "metadata": {},
          "execution_count": 10
        }
      ]
    },
    {
      "cell_type": "code",
      "source": [
        "ddi_graph.num_edges//2 # the number of training edges matches exactly with half of edges in the whole graph\n",
        "# in other words, ddi_graph is a subset of the full graph - the training-only\n",
        "# subgraph; validation and test edges are held out entirely from this training graph"
      ],
      "metadata": {
        "colab": {
          "base_uri": "https://localhost:8080/"
        },
        "id": "VWmc7QLjzKM9",
        "outputId": "63dfcea7-c1dd-4741-e5aa-bd80a82fe10f"
      },
      "execution_count": null,
      "outputs": [
        {
          "output_type": "execute_result",
          "data": {
            "text/plain": [
              "1067911"
            ]
          },
          "metadata": {},
          "execution_count": 11
        }
      ]
    },
    {
      "cell_type": "code",
      "source": [
        "# build graphsage class\n",
        "class GraphSAGE(torch.nn.Module):\n",
        "    def __init__(self, conv, in_channels, hidden_channels, out_channels, num_layers, dropout):\n",
        "        # conv: a class or function to create a GraphSAGE layer (e.g. SAGEConv)\n",
        "        # but note that SAGEConv does not accept edge features\n",
        "        # it allows stacking multiple layers (2-3 is usually a good choice)\n",
        "        super().__init__()\n",
        "        self.convs = torch.nn.ModuleList() # initialize an ordered list of GNN layers\n",
        "        assert (num_layers >= 2), \"Number of layers must be at least 2\" # one hidden layer corresponds to num_layers=2\n",
        "        self.convs.append(conv(in_channels, hidden_channels, normalize=True)) # L2 normalization of output embeddings\n",
        "        for _ in range(num_layers - 2): # optional: only useful when num_layers > 2, so having more than one hidden layer\n",
        "            self.convs.append(conv(hidden_channels, hidden_channels, normalize=True))\n",
        "        self.convs.append(conv(hidden_channels, out_channels, normalize=True))\n",
        "\n",
        "        self.num_layers = num_layers\n",
        "        self.dropout = dropout\n",
        "\n",
        "    def forward(self, x, edge_index, edge_attr): # x is the matrix of initial node embeddings [N, in_channels]\n",
        "        if edge_attr is not None: # if edge features are provided\n",
        "            return self.forward_with_edge_attr(x, edge_index, edge_attr)\n",
        "\n",
        "        # proceed with no edge features\n",
        "        for i in range(self.num_layers - 1):\n",
        "            x = self.convs[i](x, edge_index)  # message passing, recall self.convs is an ordered list of layers\n",
        "            x = F.relu(x)                     # activation\n",
        "            x = F.dropout(x, p=self.dropout, training=self.training) # dropout\n",
        "\n",
        "        # generate embeddings\n",
        "        x = self.convs[self.num_layers - 1](x, edge_index) # last layer (not relu or dropout)\n",
        "\n",
        "        return x\n",
        "\n",
        "    # if edge features are provided, note not all GNN layers accept edge features\n",
        "    # GraghSAGE actually does not accept edge_attr\n",
        "    def forward_with_edge_attr(self, x, edge_index, edge_attr):\n",
        "        for i in range(self.num_layers - 1):\n",
        "            x = self.convs[i](x, edge_index, edge_attr)\n",
        "            x = F.relu(x)\n",
        "            x = F.dropout(x, p=self.dropout, training=self.training)\n",
        "\n",
        "        # generate embeddings\n",
        "        x = self.convs[self.num_layers - 1](x, edge_index, edge_attr)\n",
        "        return x"
      ],
      "metadata": {
        "id": "P6QgZYFhPV-F"
      },
      "execution_count": null,
      "outputs": []
    },
    {
      "cell_type": "code",
      "source": [
        "# set up some parameters\n",
        "graphsage_in_channels = 256\n",
        "graphsage_hidden_channels = 256\n",
        "graphsage_out_channels = 256\n",
        "graphsage_num_layers = 2\n",
        "dropout = 0.5"
      ],
      "metadata": {
        "id": "g-JZ9WL5S5P_"
      },
      "execution_count": null,
      "outputs": []
    },
    {
      "cell_type": "code",
      "source": [
        "# create initial embeddings, learnable, updated during training\n",
        "initial_node_embeddings = torch.nn.Embedding(ddi_graph.num_nodes, graphsage_in_channels).to(device)"
      ],
      "metadata": {
        "id": "qXNafVuaezGj"
      },
      "execution_count": null,
      "outputs": []
    },
    {
      "cell_type": "code",
      "source": [
        "# prompt: to get dimension of initial_node_embeddings\n",
        "print(f'Shape of initial node embeddings: {initial_node_embeddings.weight.shape}')\n",
        "print(f'Dimension of initial node embeddings: {initial_node_embeddings.embedding_dim}')"
      ],
      "metadata": {
        "colab": {
          "base_uri": "https://localhost:8080/"
        },
        "id": "W5aAlPhbrlKX",
        "outputId": "2700c0bd-1628-40ff-af78-6d2f2a60c2df"
      },
      "execution_count": null,
      "outputs": [
        {
          "output_type": "stream",
          "name": "stdout",
          "text": [
            "Shape of initial node embeddings: torch.Size([4267, 256])\n",
            "Dimension of initial node embeddings: 256\n"
          ]
        }
      ]
    },
    {
      "cell_type": "code",
      "source": [
        "# initializes the GraphSAGE model\n",
        "graphsage_model = GraphSAGE(SAGEConv, graphsage_in_channels, graphsage_hidden_channels, graphsage_out_channels, graphsage_num_layers, dropout).to(device)"
      ],
      "metadata": {
        "id": "ue4_ak24fVFh"
      },
      "execution_count": null,
      "outputs": []
    },
    {
      "cell_type": "code",
      "source": [
        "# next build model for link prediction (from graghsage output embeddings)\n",
        "link_predictor_in_channels = graphsage_out_channels # link predictor input channels comes from graphsage out channels\n",
        "link_predictor_hidden_channels = link_predictor_in_channels # use the same for hidden channels"
      ],
      "metadata": {
        "id": "FPmJhnY_iZWk"
      },
      "execution_count": null,
      "outputs": []
    },
    {
      "cell_type": "code",
      "source": [
        "# a small MLP that takes 2 node embeddings & predicts a scalar score\n",
        "# this works on either a single edge, or a batch of edges\n",
        "class LinkPredictor(torch.nn.Module):\n",
        "    def __init__(self, in_channels, hidden_channels, dropout, out_channels=1, concat=lambda x, y:x * y): # element-wise multiplication\n",
        "        super().__init__()\n",
        "        self.model = nn.Sequential(nn.Linear(in_channels, hidden_channels),\n",
        "                                   nn.ReLU(),\n",
        "                                   nn.Dropout(p=dropout),\n",
        "                                   nn.Linear(hidden_channels, out_channels),\n",
        "                                   nn.Sigmoid())\n",
        "        self.concat = concat\n",
        "\n",
        "        # note: this is not a dot product that gives one number per edge\n",
        "        # this allows MLP to learn the interaction between embedding dimensions\n",
        "\n",
        "    def forward(self, u, v):\n",
        "        x = self.concat(u, v) # output a full vector per edge (same dim as embedding)\n",
        "        return self.model(x)"
      ],
      "metadata": {
        "id": "yxxPy_WBjcRN"
      },
      "execution_count": null,
      "outputs": []
    },
    {
      "cell_type": "code",
      "source": [
        "link_predictor = LinkPredictor(in_channels=link_predictor_in_channels,\n",
        "                               hidden_channels=link_predictor_hidden_channels,\n",
        "                               dropout=dropout).to(device)"
      ],
      "metadata": {
        "id": "dC9ZzHojklti"
      },
      "execution_count": null,
      "outputs": []
    },
    {
      "cell_type": "code",
      "source": [
        "# training\n",
        "def train(graphsage_model, link_predictor, initial_node_embeddings, edge_index,\n",
        "          pos_train_edges, optimizer, batch_size, edge_attr=None):\n",
        "\n",
        "    # why we need both of them?\n",
        "    # edge_index: input to GNN, defining the graph used for message passing (dim: 2*num_edges)\n",
        "    # train_edges: targets for link prediction (dim: num_pos_train_edges*2)\n",
        "\n",
        "    total_loss, total_examples = 0, 0\n",
        "\n",
        "    # set models to train\n",
        "    graphsage_model.train()\n",
        "    link_predictor.train()\n",
        "\n",
        "    # iterate over batches of training edges\n",
        "    # each pos_samples will have shape of [batch_size, 2]\n",
        "    for pos_samples in DataLoader(pos_train_edges, batch_size=batch_size, shuffle=True):\n",
        "        optimizer.zero_grad()\n",
        "\n",
        "        # run GraphSAGE forward pass\n",
        "        node_embeddings = graphsage_model(initial_node_embeddings, edge_index, edge_attr)\n",
        "\n",
        "        # sample batch_size negative edges\n",
        "        # find node pairs that are not connected in the graph (not in edge_index)\n",
        "        # also note training negatives are generated on the fly\n",
        "        # dim: [2, batch size]\n",
        "        neg_samples = negative_sampling(edge_index,\n",
        "                                        num_nodes=initial_node_embeddings.size(0),\n",
        "                                        num_neg_samples=len(pos_samples),\n",
        "                                        method='dense')\n",
        "\n",
        "        # run link predictor forward pass on positive edge embeddings\n",
        "        pos_preds = link_predictor(node_embeddings[pos_samples[:, 0]], node_embeddings[pos_samples[:, 1]])\n",
        "\n",
        "        # run link predictor forward pass on negative edge embeddings\n",
        "        # initially made a mistake here: note the dimension of the neg_samples is different from pos_samples\n",
        "        #neg_preds = link_predictor(node_embeddings[neg_samples[:, 0]], node_embeddings[neg_samples[:, 1]])\n",
        "        neg_preds = link_predictor(node_embeddings[neg_samples[0]], node_embeddings[neg_samples[1]])\n",
        "\n",
        "        preds = torch.concat((pos_preds, neg_preds))\n",
        "\n",
        "        labels = torch.concat((torch.ones_like(pos_preds),\n",
        "                                torch.zeros_like(neg_preds)))\n",
        "\n",
        "        loss = F.binary_cross_entropy(preds, labels)\n",
        "\n",
        "        # make sure labels are on the same device\n",
        "        #labels = torch.concat((torch.ones(len(pos_preds), device=device),torch.zeros(len(neg_preds), device=device)))\n",
        "\n",
        "        # computing average loss (another option is to add reduction='sum' to change to total loss)\n",
        "        #loss = F.binary_cross_entropy(preds.squeeze(), labels)\n",
        "        loss.backward()\n",
        "        optimizer.step() # updates parameters\n",
        "\n",
        "        num_examples = len(pos_preds) # usually should equal to batch_size but may be different in last batch\n",
        "        total_loss += loss.item() * num_examples # accumulating total loss\n",
        "        total_examples += num_examples # accumulating total examples\n",
        "\n",
        "    return total_loss / total_examples"
      ],
      "metadata": {
        "id": "ybnbbl9Yk1ye"
      },
      "execution_count": null,
      "outputs": []
    },
    {
      "cell_type": "code",
      "source": [
        "# training parameters\n",
        "lr = 0.005\n",
        "batch_size = 65536 # given 1067911 training positive edges, it gives around 16 batches per epoch\n",
        "epochs = 50\n",
        "eval_steps = 5 # how often the model is evaluated during training"
      ],
      "metadata": {
        "id": "omycbP-h0dof"
      },
      "execution_count": null,
      "outputs": []
    },
    {
      "cell_type": "code",
      "source": [
        "optimizer = torch.optim.Adam(list(graphsage_model.parameters()) + list(link_predictor.parameters()), lr=lr)"
      ],
      "metadata": {
        "id": "xIE9yZh60vZd"
      },
      "execution_count": null,
      "outputs": []
    },
    {
      "cell_type": "code",
      "source": [
        "# view all parameters in graphsage_model\n",
        "for name, param in graphsage_model.named_parameters():\n",
        "    print(f\"Parameter name: {name}, Shape: {param.shape}\")\n",
        "\n",
        "# understanding the output\n",
        "# lin_1: self-node (weight and bias)\n",
        "# lin_r: neighbors (weight only), shared across all neighbors of all nodes\n",
        "# recall we have 2 conv layers"
      ],
      "metadata": {
        "colab": {
          "base_uri": "https://localhost:8080/"
        },
        "id": "NHx46PugWvhV",
        "outputId": "d895b1b5-fa16-4e1a-a0db-d911c6e6c421"
      },
      "execution_count": null,
      "outputs": [
        {
          "output_type": "stream",
          "name": "stdout",
          "text": [
            "Parameter name: convs.0.lin_l.weight, Shape: torch.Size([256, 256])\n",
            "Parameter name: convs.0.lin_l.bias, Shape: torch.Size([256])\n",
            "Parameter name: convs.0.lin_r.weight, Shape: torch.Size([256, 256])\n",
            "Parameter name: convs.1.lin_l.weight, Shape: torch.Size([256, 256])\n",
            "Parameter name: convs.1.lin_l.bias, Shape: torch.Size([256])\n",
            "Parameter name: convs.1.lin_r.weight, Shape: torch.Size([256, 256])\n"
          ]
        }
      ]
    },
    {
      "cell_type": "code",
      "source": [
        "# view all parameters in link_predictor\n",
        "for name, param in link_predictor.named_parameters():\n",
        "    print(f\"Parameter name: {name}, Shape: {param.shape}\")\n",
        "\n",
        "# understanding the output\n",
        "# model.0 is the linear layer from input embedding to hidden layer\n",
        "# model.3 is the linear layer from hidden layer to output layer\n",
        "# model.1 is nn.Relu(), no parameters\n",
        "# model.2 is nn.Dropout(), no parameters"
      ],
      "metadata": {
        "colab": {
          "base_uri": "https://localhost:8080/"
        },
        "id": "7YhC0tDdXgbV",
        "outputId": "cdb3b106-f33f-4bcc-886c-aa84367bf2d1"
      },
      "execution_count": null,
      "outputs": [
        {
          "output_type": "stream",
          "name": "stdout",
          "text": [
            "Parameter name: model.0.weight, Shape: torch.Size([256, 256])\n",
            "Parameter name: model.0.bias, Shape: torch.Size([256])\n",
            "Parameter name: model.3.weight, Shape: torch.Size([1, 256])\n",
            "Parameter name: model.3.bias, Shape: torch.Size([1])\n"
          ]
        }
      ]
    },
    {
      "cell_type": "code",
      "source": [
        "# evaluation\n",
        "# find positive and negative edges from validation set and test set\n",
        "pos_valid_edges = valid_edges[\"edge\"].to(device)\n",
        "neg_valid_edges = valid_edges[\"edge_neg\"].to(device)\n",
        "pos_test_edges = test_edges[\"edge\"].to(device)\n",
        "neg_test_edges = test_edges[\"edge_neg\"].to(device)"
      ],
      "metadata": {
        "id": "RCr0IrJZ07E9"
      },
      "execution_count": null,
      "outputs": []
    },
    {
      "cell_type": "code",
      "source": [
        "from ogb.linkproppred import Evaluator\n",
        "evaluator = Evaluator(name='ogbl-ddi')"
      ],
      "metadata": {
        "id": "qHEb1QLkSXM3"
      },
      "execution_count": null,
      "outputs": []
    },
    {
      "cell_type": "code",
      "source": [
        "evaluator.K = 3\n",
        "evaluator.eval({'y_pred_pos': torch.tensor([0.95, 0.7, 0.6, 0.4]), 'y_pred_neg': torch.tensor([0.6, 0.5, 0.45, 0.2, 0.1])})"
      ],
      "metadata": {
        "colab": {
          "base_uri": "https://localhost:8080/"
        },
        "id": "YGZIU1qNStCC",
        "outputId": "a95693c0-b50b-4629-b2c2-88fecc3ffe59"
      },
      "execution_count": null,
      "outputs": [
        {
          "output_type": "execute_result",
          "data": {
            "text/plain": [
              "{'hits@3': 0.75}"
            ]
          },
          "metadata": {},
          "execution_count": 27
        }
      ]
    },
    {
      "cell_type": "code",
      "source": [
        "@torch.no_grad() # tells pytorch not to track gradients during testing\n",
        "def test(graphsage_model, link_predictor, initial_node_embeddings, edge_index, pos_valid_edges, neg_valid_edges, pos_test_edges, neg_test_edges, batch_size, evaluator, edge_attr=None):\n",
        "\n",
        "    # set models to evaluation\n",
        "    graphsage_model.eval()\n",
        "    link_predictor.eval()\n",
        "\n",
        "    # run GraphSAGE forward pass\n",
        "    final_node_embeddings = graphsage_model(initial_node_embeddings, edge_index, edge_attr)\n",
        "\n",
        "    # run link predictor forward pass on positive validation edge embeddings\n",
        "    pos_valid_preds = []\n",
        "    for pos_samples in DataLoader(pos_valid_edges, batch_size):\n",
        "        pos_preds = link_predictor(final_node_embeddings[pos_samples[:,0]],final_node_embeddings[pos_samples[:,1]])\n",
        "        pos_valid_preds.append(pos_preds.squeeze())\n",
        "    pos_valid_pred = torch.cat(pos_valid_preds, dim=0)\n",
        "\n",
        "    # run link predictor forward pass on negative validation edge embeddings\n",
        "    neg_valid_preds = []\n",
        "    for neg_samples in DataLoader(neg_valid_edges, batch_size):\n",
        "        neg_preds = link_predictor(final_node_embeddings[neg_samples[:,0]],final_node_embeddings[neg_samples[:,1]])\n",
        "        neg_valid_preds.append(neg_preds.squeeze())\n",
        "    neg_valid_pred = torch.cat(neg_valid_preds, dim=0)\n",
        "\n",
        "    # run link predictor forward pass on positive test edge embeddings\n",
        "    pos_test_preds = []\n",
        "    for pos_samples in DataLoader(pos_test_edges, batch_size):\n",
        "        pos_preds = link_predictor(final_node_embeddings[pos_samples[:,0]],final_node_embeddings[pos_samples[:,1]])\n",
        "        pos_test_preds.append(pos_preds.squeeze())\n",
        "    pos_test_pred = torch.cat(pos_test_preds, dim=0)\n",
        "\n",
        "    # run link predictor forward pass on negative test edge embeddings\n",
        "    neg_test_preds = []\n",
        "    for neg_samples in DataLoader(neg_test_edges, batch_size):\n",
        "        neg_preds = link_predictor(final_node_embeddings[neg_samples[:,0]],final_node_embeddings[neg_samples[:,1]])\n",
        "        neg_test_preds.append(neg_preds.squeeze())\n",
        "    neg_test_pred = torch.cat(neg_test_preds, dim=0)\n",
        "\n",
        "    # calculate hits@20\n",
        "    evaluator.K = 20\n",
        "    valid_hits = evaluator.eval({'y_pred_pos': pos_valid_pred, 'y_pred_neg': neg_valid_pred})\n",
        "    test_hits = evaluator.eval({'y_pred_pos': pos_test_pred, 'y_pred_neg': neg_test_pred})\n",
        "\n",
        "    return valid_hits, test_hits\n",
        "\n"
      ],
      "metadata": {
        "id": "oVwifTSFS6Ow"
      },
      "execution_count": null,
      "outputs": []
    },
    {
      "cell_type": "code",
      "source": [
        "# now training and evaluation\n",
        "# using evaluation metrics hits@20\n",
        "\n",
        "import matplotlib.pyplot as plt\n",
        "epochs_bar = trange(1, epochs+1, desc='Loss n/a') # trange equals to tqdm(range(...))\n",
        "\n",
        "edge_index = ddi_graph.edge_index.to(device)\n",
        "pos_train_edges = train_edges['edge'].to(device)\n",
        "\n",
        "losses = []\n",
        "valid_hits_list = []\n",
        "test_hits_list = []\n",
        "for epoch in epochs_bar: # model is trained epoch by epoch\n",
        "    loss = train(graphsage_model, link_predictor, initial_node_embeddings.weight, edge_index, pos_train_edges, optimizer, batch_size)\n",
        "    losses.append(loss)\n",
        "\n",
        "    epochs_bar.set_description(f'Loss {loss:0.4f}')\n",
        "\n",
        "    if epoch % eval_steps == 0: # if current epoch is a multiple of eval_steps\n",
        "        valid_hits, test_hits = test(graphsage_model, link_predictor, initial_node_embeddings.weight, edge_index, pos_valid_edges, neg_valid_edges, pos_test_edges, neg_test_edges, batch_size, evaluator)\n",
        "        print() # print a blank line\n",
        "        print(f'Epoch: {epoch}, Validation Hits@20: {valid_hits[\"hits@20\"]:0.4f}, Test Hits@20: {test_hits[\"hits@20\"]:0.4f}')\n",
        "        valid_hits_list.append(valid_hits['hits@20'])\n",
        "        test_hits_list.append(test_hits['hits@20'])\n",
        "    else: # if not evaluating then using the last known metric (0 if nothing yet)\n",
        "        valid_hits_list.append(valid_hits_list[-1] if valid_hits_list else 0)\n",
        "        test_hits_list.append(test_hits_list[-1] if test_hits_list else 0)\n",
        "\n",
        "plt.title(dataset.name + \": GraphSAGE\")\n",
        "plt.xlabel(\"Epoch\")\n",
        "plt.plot(losses, label=\"Training loss\")\n",
        "plt.plot(valid_hits_list, label=\"Validation Hits@20\")\n",
        "plt.plot(test_hits_list, label=\"Test Hits@20\")\n",
        "plt.legend()\n",
        "plt.show()\n"
      ],
      "metadata": {
        "colab": {
          "base_uri": "https://localhost:8080/",
          "height": 847
        },
        "id": "MS0RZfnVXDh3",
        "outputId": "47de2756-e3ee-42fa-84b4-3623cdafd438"
      },
      "execution_count": null,
      "outputs": [
        {
          "output_type": "stream",
          "name": "stderr",
          "text": [
            "Loss 0.4762:  10%|█         | 5/50 [00:50<07:51, 10.48s/it]"
          ]
        },
        {
          "output_type": "stream",
          "name": "stdout",
          "text": [
            "\n",
            "Epoch: 5, Validation Hits@20: 0.0228, Test Hits@20: 0.0051\n"
          ]
        },
        {
          "output_type": "stream",
          "name": "stderr",
          "text": [
            "Loss 0.3703:  20%|██        | 10/50 [01:41<07:09, 10.75s/it]"
          ]
        },
        {
          "output_type": "stream",
          "name": "stdout",
          "text": [
            "\n",
            "Epoch: 10, Validation Hits@20: 0.0352, Test Hits@20: 0.0226\n"
          ]
        },
        {
          "output_type": "stream",
          "name": "stderr",
          "text": [
            "Loss 0.3410:  30%|███       | 15/50 [02:32<06:15, 10.73s/it]"
          ]
        },
        {
          "output_type": "stream",
          "name": "stdout",
          "text": [
            "\n",
            "Epoch: 15, Validation Hits@20: 0.1306, Test Hits@20: 0.0443\n"
          ]
        },
        {
          "output_type": "stream",
          "name": "stderr",
          "text": [
            "Loss 0.3314:  40%|████      | 20/50 [03:22<05:10, 10.37s/it]"
          ]
        },
        {
          "output_type": "stream",
          "name": "stdout",
          "text": [
            "\n",
            "Epoch: 20, Validation Hits@20: 0.1459, Test Hits@20: 0.0548\n"
          ]
        },
        {
          "output_type": "stream",
          "name": "stderr",
          "text": [
            "Loss 0.3072:  50%|█████     | 25/50 [04:13<04:22, 10.49s/it]"
          ]
        },
        {
          "output_type": "stream",
          "name": "stdout",
          "text": [
            "\n",
            "Epoch: 25, Validation Hits@20: 0.1776, Test Hits@20: 0.0921\n"
          ]
        },
        {
          "output_type": "stream",
          "name": "stderr",
          "text": [
            "Loss 0.2844:  60%|██████    | 30/50 [05:03<03:27, 10.37s/it]"
          ]
        },
        {
          "output_type": "stream",
          "name": "stdout",
          "text": [
            "\n",
            "Epoch: 30, Validation Hits@20: 0.1783, Test Hits@20: 0.1055\n"
          ]
        },
        {
          "output_type": "stream",
          "name": "stderr",
          "text": [
            "Loss 0.2660:  70%|███████   | 35/50 [05:53<02:34, 10.33s/it]"
          ]
        },
        {
          "output_type": "stream",
          "name": "stdout",
          "text": [
            "\n",
            "Epoch: 35, Validation Hits@20: 0.1470, Test Hits@20: 0.0833\n"
          ]
        },
        {
          "output_type": "stream",
          "name": "stderr",
          "text": [
            "Loss 0.2490:  80%|████████  | 40/50 [06:42<01:42, 10.26s/it]"
          ]
        },
        {
          "output_type": "stream",
          "name": "stdout",
          "text": [
            "\n",
            "Epoch: 40, Validation Hits@20: 0.2027, Test Hits@20: 0.1189\n"
          ]
        },
        {
          "output_type": "stream",
          "name": "stderr",
          "text": [
            "Loss 0.2354:  90%|█████████ | 45/50 [07:32<00:51, 10.22s/it]"
          ]
        },
        {
          "output_type": "stream",
          "name": "stdout",
          "text": [
            "\n",
            "Epoch: 45, Validation Hits@20: 0.2318, Test Hits@20: 0.1272\n"
          ]
        },
        {
          "output_type": "stream",
          "name": "stderr",
          "text": [
            "Loss 0.2219: 100%|██████████| 50/50 [08:21<00:00, 10.03s/it]"
          ]
        },
        {
          "output_type": "stream",
          "name": "stdout",
          "text": [
            "\n",
            "Epoch: 50, Validation Hits@20: 0.2294, Test Hits@20: 0.1177\n"
          ]
        },
        {
          "output_type": "stream",
          "name": "stderr",
          "text": [
            "\n"
          ]
        },
        {
          "output_type": "display_data",
          "data": {
            "text/plain": [
              "<Figure size 640x480 with 1 Axes>"
            ],
            "image/png": "[encoded data removed]"
          },
          "metadata": {}
        }
      ]
    },
    {
      "cell_type": "code",
      "source": [],
      "metadata": {
        "id": "KseLewEUXgAi"
      },
      "execution_count": null,
      "outputs": []
    }
  ]
}