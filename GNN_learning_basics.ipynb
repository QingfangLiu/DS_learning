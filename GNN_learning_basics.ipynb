{
  "cells": [
    {
      "cell_type": "markdown",
      "metadata": {
        "id": "view-in-github",
        "colab_type": "text"
      },
      "source": [
        "<a href=\"https://colab.research.google.com/github/QingfangLiu/DS_learning/blob/main/GNN_learning_basics.ipynb\" target=\"_parent\"><img src=\"https://colab.research.google.com/assets/colab-badge.svg\" alt=\"Open In Colab\"/></a>"
      ]
    },
    {
      "cell_type": "code",
      "execution_count": null,
      "id": "9a1cfd35-a8ff-47ba-87a1-644983bdb094",
      "metadata": {
        "id": "9a1cfd35-a8ff-47ba-87a1-644983bdb094",
        "outputId": "67e85165-5faa-4ead-bffb-2f24586ea6a5",
        "colab": {
          "base_uri": "https://localhost:8080/",
          "height": 384
        }
      },
      "outputs": [
        {
          "output_type": "error",
          "ename": "ModuleNotFoundError",
          "evalue": "No module named 'torch_geometric'",
          "traceback": [
            "\u001b[0;31m---------------------------------------------------------------------------\u001b[0m",
            "\u001b[0;31mModuleNotFoundError\u001b[0m                       Traceback (most recent call last)",
            "\u001b[0;32m<ipython-input-1-770ab6d59951>\u001b[0m in \u001b[0;36m<cell line: 0>\u001b[0;34m()\u001b[0m\n\u001b[1;32m      1\u001b[0m \u001b[0;32mimport\u001b[0m \u001b[0mtorch\u001b[0m\u001b[0;34m\u001b[0m\u001b[0;34m\u001b[0m\u001b[0m\n\u001b[0;32m----> 2\u001b[0;31m \u001b[0;32mimport\u001b[0m \u001b[0mtorch_geometric\u001b[0m\u001b[0;34m\u001b[0m\u001b[0;34m\u001b[0m\u001b[0m\n\u001b[0m\u001b[1;32m      3\u001b[0m \u001b[0;32mfrom\u001b[0m \u001b[0mtorch_geometric\u001b[0m\u001b[0;34m.\u001b[0m\u001b[0mdata\u001b[0m \u001b[0;32mimport\u001b[0m \u001b[0mData\u001b[0m\u001b[0;34m\u001b[0m\u001b[0;34m\u001b[0m\u001b[0m\n\u001b[1;32m      4\u001b[0m \u001b[0;32mimport\u001b[0m \u001b[0mtorch\u001b[0m\u001b[0;34m.\u001b[0m\u001b[0mnn\u001b[0m\u001b[0;34m.\u001b[0m\u001b[0mfunctional\u001b[0m \u001b[0;32mas\u001b[0m \u001b[0mF\u001b[0m\u001b[0;34m\u001b[0m\u001b[0;34m\u001b[0m\u001b[0m\n\u001b[1;32m      5\u001b[0m \u001b[0;32mfrom\u001b[0m \u001b[0mtorch_geometric\u001b[0m\u001b[0;34m.\u001b[0m\u001b[0mnn\u001b[0m \u001b[0;32mimport\u001b[0m \u001b[0mGCNConv\u001b[0m\u001b[0;34m\u001b[0m\u001b[0;34m\u001b[0m\u001b[0m\n",
            "\u001b[0;31mModuleNotFoundError\u001b[0m: No module named 'torch_geometric'",
            "",
            "\u001b[0;31m---------------------------------------------------------------------------\u001b[0;32m\nNOTE: If your import is failing due to a missing package, you can\nmanually install dependencies using either !pip or !apt.\n\nTo view examples of installing some common dependencies, click the\n\"Open Examples\" button below.\n\u001b[0;31m---------------------------------------------------------------------------\u001b[0m\n"
          ],
          "errorDetails": {
            "actions": [
              {
                "action": "open_url",
                "actionText": "Open Examples",
                "url": "/notebooks/snippets/importing_libraries.ipynb"
              }
            ]
          }
        }
      ],
      "source": [
        "import torch\n",
        "import torch_geometric\n",
        "from torch_geometric.data import Data\n",
        "import torch.nn.functional as F\n",
        "from torch_geometric.nn import GCNConv"
      ]
    },
    {
      "cell_type": "raw",
      "id": "d2478f20-0691-42e7-abe8-5142c06e664b",
      "metadata": {
        "id": "d2478f20-0691-42e7-abe8-5142c06e664b"
      },
      "source": [
        "create a simple graph with 2 edges and 3 nodes\n",
        "x: node feature matrix, # nodes * # features\n",
        "edge_index: graph conn in COO format, 2 * # edges (row1: source nodes; row2: target nodes)"
      ]
    },
    {
      "cell_type": "code",
      "execution_count": null,
      "id": "e6253cb7-4ff2-411d-af8a-b2fc7b8cf407",
      "metadata": {
        "id": "e6253cb7-4ff2-411d-af8a-b2fc7b8cf407"
      },
      "outputs": [],
      "source": [
        "edge_index = torch.tensor([[0, 1, 1, 2], [1, 0, 2, 1]], dtype=torch.long)"
      ]
    },
    {
      "cell_type": "code",
      "execution_count": null,
      "id": "deb92285-34a9-4434-a571-e89b8948339a",
      "metadata": {
        "id": "deb92285-34a9-4434-a571-e89b8948339a",
        "outputId": "635d0879-b0d5-42b0-c43a-d1507ad401bf"
      },
      "outputs": [
        {
          "data": {
            "text/plain": [
              "tensor([[0, 1, 1, 2],\n",
              "        [1, 0, 2, 1]])"
            ]
          },
          "execution_count": 13,
          "metadata": {},
          "output_type": "execute_result"
        }
      ],
      "source": [
        "edge_index\n",
        "# here 4 edges: 0 to 1, 1 to 0, 1 to 2, 2 to 1\n",
        "# undirected"
      ]
    },
    {
      "cell_type": "code",
      "execution_count": null,
      "id": "973a636c-1b1f-4ca3-8f0b-7d0ab11e6dbd",
      "metadata": {
        "id": "973a636c-1b1f-4ca3-8f0b-7d0ab11e6dbd"
      },
      "outputs": [],
      "source": [
        "x = torch.tensor([[-1], [0], [1]], dtype=torch.float)"
      ]
    },
    {
      "cell_type": "code",
      "execution_count": null,
      "id": "71e33ac2-3510-4d6c-99a2-6f1918141910",
      "metadata": {
        "id": "71e33ac2-3510-4d6c-99a2-6f1918141910",
        "outputId": "b25d470d-19b4-4178-de07-b1596c4cb50c"
      },
      "outputs": [
        {
          "data": {
            "text/plain": [
              "tensor([[-1.],\n",
              "        [ 0.],\n",
              "        [ 1.]])"
            ]
          },
          "execution_count": 8,
          "metadata": {},
          "output_type": "execute_result"
        }
      ],
      "source": [
        "x"
      ]
    },
    {
      "cell_type": "code",
      "execution_count": null,
      "id": "1dbde056-5c13-4e36-9342-89f0a5bd1d6c",
      "metadata": {
        "id": "1dbde056-5c13-4e36-9342-89f0a5bd1d6c"
      },
      "outputs": [],
      "source": [
        "data = Data(x=x, edge_index=edge_index)"
      ]
    },
    {
      "cell_type": "code",
      "execution_count": null,
      "id": "3c494097-2da5-4b48-8c7e-f6da3633393c",
      "metadata": {
        "id": "3c494097-2da5-4b48-8c7e-f6da3633393c",
        "outputId": "e8c2c315-2cea-491e-fcb6-45334d6728a4"
      },
      "outputs": [
        {
          "data": {
            "text/plain": [
              "Data(x=[3, 1], edge_index=[2, 4])"
            ]
          },
          "execution_count": 10,
          "metadata": {},
          "output_type": "execute_result"
        }
      ],
      "source": [
        "data"
      ]
    },
    {
      "cell_type": "code",
      "execution_count": null,
      "id": "8941d373-aeb1-400f-b706-8538431d64ed",
      "metadata": {
        "id": "8941d373-aeb1-400f-b706-8538431d64ed",
        "outputId": "887301d4-9621-4fee-f16a-fc10c32c3eef"
      },
      "outputs": [
        {
          "data": {
            "text/plain": [
              "True"
            ]
          },
          "execution_count": 14,
          "metadata": {},
          "output_type": "execute_result"
        }
      ],
      "source": [
        "data.validate(raise_on_error=True)"
      ]
    },
    {
      "cell_type": "code",
      "execution_count": null,
      "id": "88015134-932a-4b0d-af1d-82b7a3fb288b",
      "metadata": {
        "id": "88015134-932a-4b0d-af1d-82b7a3fb288b",
        "outputId": "fd4d9114-fca9-4246-b16f-4a3dfb682d3b"
      },
      "outputs": [
        {
          "data": {
            "text/plain": [
              "['x', 'edge_index']"
            ]
          },
          "execution_count": 15,
          "metadata": {},
          "output_type": "execute_result"
        }
      ],
      "source": [
        "data.keys()"
      ]
    },
    {
      "cell_type": "code",
      "execution_count": null,
      "id": "c5b9c54b-15ca-4f60-a8d8-7c89466df7e8",
      "metadata": {
        "id": "c5b9c54b-15ca-4f60-a8d8-7c89466df7e8",
        "outputId": "4bb89bdb-6291-4c72-c559-046f1ddee261"
      },
      "outputs": [
        {
          "data": {
            "text/plain": [
              "tensor([[-1.],\n",
              "        [ 0.],\n",
              "        [ 1.]])"
            ]
          },
          "execution_count": 16,
          "metadata": {},
          "output_type": "execute_result"
        }
      ],
      "source": [
        "data['x']"
      ]
    },
    {
      "cell_type": "code",
      "execution_count": null,
      "id": "23ed4c88-f0cc-4abd-845a-15583489d235",
      "metadata": {
        "id": "23ed4c88-f0cc-4abd-845a-15583489d235",
        "outputId": "a3c1fb1d-e1a4-423c-c06b-55de75122402"
      },
      "outputs": [
        {
          "data": {
            "text/plain": [
              "0"
            ]
          },
          "execution_count": 17,
          "metadata": {},
          "output_type": "execute_result"
        }
      ],
      "source": [
        "data.num_edge_features"
      ]
    },
    {
      "cell_type": "code",
      "execution_count": null,
      "id": "695978d5-b9d2-44c8-a28d-2db194597e53",
      "metadata": {
        "id": "695978d5-b9d2-44c8-a28d-2db194597e53",
        "outputId": "29708413-cba9-4c97-98da-22f18d309f1d"
      },
      "outputs": [
        {
          "data": {
            "text/plain": [
              "1"
            ]
          },
          "execution_count": 18,
          "metadata": {},
          "output_type": "execute_result"
        }
      ],
      "source": [
        "data.num_edge_types"
      ]
    },
    {
      "cell_type": "code",
      "execution_count": null,
      "id": "0546549b-2391-41eb-aa49-e526d8115087",
      "metadata": {
        "id": "0546549b-2391-41eb-aa49-e526d8115087",
        "outputId": "25ae68eb-70a9-41f4-9bd2-ad866b9e1f9a"
      },
      "outputs": [
        {
          "data": {
            "text/plain": [
              "4"
            ]
          },
          "execution_count": 19,
          "metadata": {},
          "output_type": "execute_result"
        }
      ],
      "source": [
        "data.num_edges"
      ]
    },
    {
      "cell_type": "code",
      "execution_count": null,
      "id": "261998f9-00e4-4985-8c5c-ccd68143e964",
      "metadata": {
        "id": "261998f9-00e4-4985-8c5c-ccd68143e964",
        "outputId": "987defac-f6d3-4154-940c-0ffdfe891a25"
      },
      "outputs": [
        {
          "data": {
            "text/plain": [
              "1"
            ]
          },
          "execution_count": 21,
          "metadata": {},
          "output_type": "execute_result"
        }
      ],
      "source": [
        "data.num_features"
      ]
    },
    {
      "cell_type": "code",
      "execution_count": null,
      "id": "d4d8148e-0bcf-4b9d-8c2a-c959557397a2",
      "metadata": {
        "id": "d4d8148e-0bcf-4b9d-8c2a-c959557397a2",
        "outputId": "f7cf4ed1-eaa5-4c5a-d316-608b575e4d92"
      },
      "outputs": [
        {
          "data": {
            "text/plain": [
              "1"
            ]
          },
          "execution_count": 22,
          "metadata": {},
          "output_type": "execute_result"
        }
      ],
      "source": [
        "data.num_node_features"
      ]
    },
    {
      "cell_type": "code",
      "execution_count": null,
      "id": "f935d916-3b46-4ee0-b9b7-e70b19b55d3d",
      "metadata": {
        "id": "f935d916-3b46-4ee0-b9b7-e70b19b55d3d",
        "outputId": "53b0c893-d563-49c5-f306-4cea453b9f81"
      },
      "outputs": [
        {
          "data": {
            "text/plain": [
              "3"
            ]
          },
          "execution_count": 23,
          "metadata": {},
          "output_type": "execute_result"
        }
      ],
      "source": [
        "data.num_nodes"
      ]
    },
    {
      "cell_type": "code",
      "execution_count": null,
      "id": "8036d6d0-8a76-4d2e-a615-ad5caf536ee6",
      "metadata": {
        "id": "8036d6d0-8a76-4d2e-a615-ad5caf536ee6"
      },
      "outputs": [],
      "source": [
        "from torch_geometric.datasets import Planetoid"
      ]
    },
    {
      "cell_type": "code",
      "execution_count": null,
      "id": "b09efe39-2387-4403-8ada-06250b241211",
      "metadata": {
        "id": "b09efe39-2387-4403-8ada-06250b241211"
      },
      "outputs": [],
      "source": [
        "dataset = Planetoid(root='/tmp/Cora', name='Cora')"
      ]
    },
    {
      "cell_type": "code",
      "execution_count": null,
      "id": "d80aa150-cf96-423e-a9d3-e4f91cf6723a",
      "metadata": {
        "id": "d80aa150-cf96-423e-a9d3-e4f91cf6723a",
        "outputId": "78827a55-a6b6-4bb6-95a8-b929202f2487"
      },
      "outputs": [
        {
          "data": {
            "text/plain": [
              "Cora()"
            ]
          },
          "execution_count": 30,
          "metadata": {},
          "output_type": "execute_result"
        }
      ],
      "source": [
        "dataset"
      ]
    },
    {
      "cell_type": "code",
      "execution_count": null,
      "id": "7044d205-8742-4775-bbc1-35b0c81b012a",
      "metadata": {
        "id": "7044d205-8742-4775-bbc1-35b0c81b012a",
        "outputId": "a6bb1ebe-f5d1-4f41-9673-d149e22b7905"
      },
      "outputs": [
        {
          "name": "stdout",
          "output_type": "stream",
          "text": [
            "# of node features: 1433\n",
            "# of nodes: 2708\n",
            "# of edges: 10556\n"
          ]
        }
      ],
      "source": [
        "print('# of node features:',dataset[0].num_node_features)\n",
        "print('# of nodes:',dataset[0].num_nodes)\n",
        "print('# of edges:',dataset[0].num_edges)"
      ]
    },
    {
      "cell_type": "code",
      "execution_count": null,
      "id": "38d72446-bad4-45fe-9af1-174e81156893",
      "metadata": {
        "id": "38d72446-bad4-45fe-9af1-174e81156893",
        "outputId": "5934ab1b-ec0e-4811-a0e0-82b83cddb4d8"
      },
      "outputs": [
        {
          "data": {
            "text/plain": [
              "torch.Size([2, 10556])"
            ]
          },
          "execution_count": 45,
          "metadata": {},
          "output_type": "execute_result"
        }
      ],
      "source": [
        "dataset[0].edge_index.shape"
      ]
    },
    {
      "cell_type": "code",
      "execution_count": null,
      "id": "23379ef7-4e2a-407d-a635-339547470015",
      "metadata": {
        "id": "23379ef7-4e2a-407d-a635-339547470015",
        "outputId": "ab20b74d-5796-460f-f098-427ba14650b1"
      },
      "outputs": [
        {
          "data": {
            "text/plain": [
              "7"
            ]
          },
          "execution_count": 51,
          "metadata": {},
          "output_type": "execute_result"
        }
      ],
      "source": [
        "dataset.num_classes"
      ]
    },
    {
      "cell_type": "raw",
      "id": "92adb620-549b-4966-ac43-26aa1bba0082",
      "metadata": {
        "id": "92adb620-549b-4966-ac43-26aa1bba0082"
      },
      "source": [
        "GCNConv is a graph convolutional layer: out = AXW\n",
        "below is a node classification model"
      ]
    },
    {
      "cell_type": "code",
      "execution_count": null,
      "id": "bc5b71d8-ded8-4572-b3eb-f4656fd42a24",
      "metadata": {
        "id": "bc5b71d8-ded8-4572-b3eb-f4656fd42a24"
      },
      "outputs": [],
      "source": [
        "class GCN(torch.nn.Module):\n",
        "    def __init__(self):\n",
        "        super().__init__()\n",
        "        self.conv1 = GCNConv(dataset.num_node_features, 16)\n",
        "        self.conv2 = GCNConv(16, dataset.num_classes)\n",
        "\n",
        "    def forward(self, data):\n",
        "        x, edge_index = data.x, data.edge_index\n",
        "\n",
        "        x = self.conv1(x, edge_index)\n",
        "        x = F.relu(x)\n",
        "        x = F.dropout(x, training=self.training)\n",
        "        x = self.conv2(x, edge_index)\n",
        "\n",
        "        return F.log_softmax(x, dim=1)"
      ]
    },
    {
      "cell_type": "code",
      "execution_count": null,
      "id": "7548476e-a55d-491f-b68a-04c590f0069e",
      "metadata": {
        "id": "7548476e-a55d-491f-b68a-04c590f0069e"
      },
      "outputs": [],
      "source": [
        "# training for 200 epochs\n",
        "device = torch.device('cuda' if torch.cuda.is_available() else 'cpu')\n",
        "model = GCN().to(device)\n",
        "data = dataset[0].to(device)\n",
        "optimizer = torch.optim.Adam(model.parameters(), lr=0.01, weight_decay=5e-4)\n",
        "\n",
        "model.train()\n",
        "for epoch in range(200):\n",
        "    optimizer.zero_grad()\n",
        "    out = model(data)\n",
        "    loss = F.nll_loss(out[data.train_mask], data.y[data.train_mask])\n",
        "    loss.backward()\n",
        "    optimizer.step()"
      ]
    },
    {
      "cell_type": "code",
      "execution_count": null,
      "id": "5c6dc660-72e0-48b0-8cce-49829538dc8a",
      "metadata": {
        "id": "5c6dc660-72e0-48b0-8cce-49829538dc8a"
      },
      "outputs": [],
      "source": []
    }
  ],
  "metadata": {
    "kernelspec": {
      "display_name": "Python 3 (ipykernel)",
      "language": "python",
      "name": "python3"
    },
    "language_info": {
      "codemirror_mode": {
        "name": "ipython",
        "version": 3
      },
      "file_extension": ".py",
      "mimetype": "text/x-python",
      "name": "python",
      "nbconvert_exporter": "python",
      "pygments_lexer": "ipython3",
      "version": "3.9.6"
    },
    "colab": {
      "provenance": [],
      "include_colab_link": true
    }
  },
  "nbformat": 4,
  "nbformat_minor": 5
}