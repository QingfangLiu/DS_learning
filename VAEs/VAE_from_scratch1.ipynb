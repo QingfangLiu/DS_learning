{
 "cells": [
  {
   "cell_type": "markdown",
   "id": "572142ec-e70b-49a9-be0a-9ab26aa39a2d",
   "metadata": {},
   "source": [
    "### building vae using PyTorch from scratch\n",
    "* using MNIST dataset"
   ]
  },
  {
   "cell_type": "code",
   "execution_count": 1,
   "id": "533439f5-9cc5-4bc0-9526-349df4fd9078",
   "metadata": {},
   "outputs": [],
   "source": [
    "import torch\n",
    "from torch import nn, optim\n",
    "import torch.nn.functional as F"
   ]
  },
  {
   "cell_type": "code",
   "execution_count": 2,
   "id": "c2f4c39c-ce76-49d8-b590-12b208c1acd7",
   "metadata": {},
   "outputs": [],
   "source": [
    "import torchvision.datasets as datasets\n",
    "from tqdm import tqdm # progress bar\n",
    "from torchvision import transforms\n",
    "from torchvision.utils import save_image\n",
    "from torch.utils.data import DataLoader"
   ]
  },
  {
   "cell_type": "code",
   "execution_count": 3,
   "id": "0468b516-a977-4731-9751-ca741584fea8",
   "metadata": {},
   "outputs": [],
   "source": [
    "class VariationalAutoEncoder(nn.Module): # inherits from nn.Module\n",
    "    def __init__(self, input_dim, h_dim=200, z_dim=20):\n",
    "        super().__init__() # initializes all internal PyTorch machinery in nn.Module\n",
    "        # define basic layers\n",
    "        # encoder\n",
    "        self.img_2hid = nn.Linear(input_dim, h_dim)\n",
    "        self.hid_2mu = nn.Linear(h_dim, z_dim)\n",
    "        self.hid_2sigma = nn.Linear(h_dim, z_dim)\n",
    "\n",
    "        # decoder\n",
    "        self.z_2hid = nn.Linear(z_dim, h_dim)\n",
    "        self.h_2img = nn.Linear(h_dim, input_dim)\n",
    "\n",
    "        self.relu = nn.ReLU()\n",
    "\n",
    "    # encoder and decoder are helper functions to make the code modular and clean\n",
    "    def encode(self,x):\n",
    "        # q_phi(z|x)\n",
    "\n",
    "        h = self.relu(self.img_2hid(x))\n",
    "        mu, sigma = self.hid_2mu(h), self.hid_2sigma(h) # mu and sigma come from linear layer, no need for relu\n",
    "        return mu, sigma\n",
    "        \n",
    "    def decode(self,z):\n",
    "        # p_theta(x|z)\n",
    "\n",
    "        h = self.relu(self.z_2hid(z))\n",
    "        return torch.sigmoid(self.h_2img(h)) # to bring scale back to 0-1\n",
    "\n",
    "    # combine everything in forward function\n",
    "    # defines the full model logic\n",
    "    # by default being called when calling the whole class\n",
    "    def forward(self,x):\n",
    "        mu, sigma = self.encode(x)\n",
    "        epsilon = torch.randn_like(sigma) # sample from N(0,1) with same shape as sigma\n",
    "        z_reparametrized = mu + sigma * epsilon\n",
    "        x_reconstructed = self.decode(z_reparametrized)\n",
    "        return x_reconstructed, mu, sigma # need all 3 to calculate loss function"
   ]
  },
  {
   "cell_type": "code",
   "execution_count": 4,
   "id": "8f514c84-ef66-4de9-b086-77fa19c9e47e",
   "metadata": {},
   "outputs": [
    {
     "name": "stdout",
     "output_type": "stream",
     "text": [
      "torch.Size([1, 784])\n",
      "torch.Size([1, 20])\n",
      "torch.Size([1, 20])\n"
     ]
    }
   ],
   "source": [
    "# test the model \n",
    "if __name__ == \"__main__\":\n",
    "    x = torch.randn(1,28*28)\n",
    "    vae = VariationalAutoEncoder(input_dim=784)\n",
    "    x_reconstructed, mu, sigma = vae(x)\n",
    "    print(x_reconstructed.shape)\n",
    "    print(mu.shape)\n",
    "    print(sigma.shape)"
   ]
  },
  {
   "cell_type": "code",
   "execution_count": 5,
   "id": "abc79e64-92dd-4ec5-8e14-bb1580cc30c1",
   "metadata": {},
   "outputs": [],
   "source": [
    "# configuration\n",
    "DEVICE = torch.device(\"cuda\" if torch.cuda.is_available() else \"cpu\")\n",
    "INPUT_DIM = 784\n",
    "H_DIM = 200\n",
    "Z_DIM = 20\n",
    "\n",
    "NUM_EPOCHS = 10\n",
    "BATCH_SIZE = 32\n",
    "LR_RATE = 3e-4 # Karpathy constant\n"
   ]
  },
  {
   "cell_type": "code",
   "execution_count": 6,
   "id": "ff505fc0-63c6-4182-9cfa-54842a7a4018",
   "metadata": {},
   "outputs": [],
   "source": [
    "# download MNIST dataset to local drive\n",
    "dataset = datasets.MNIST(root=\"dataset/\", train=True, transform=transforms.ToTensor(), download=True)"
   ]
  },
  {
   "cell_type": "code",
   "execution_count": 7,
   "id": "43a6cc2d-f8f9-44ab-9889-73259ffd6b7d",
   "metadata": {},
   "outputs": [],
   "source": [
    "train_loader = DataLoader(dataset=dataset, batch_size=BATCH_SIZE, shuffle=True)"
   ]
  },
  {
   "cell_type": "code",
   "execution_count": 8,
   "id": "4974cc08-1cde-4b38-89ed-acb4f4995609",
   "metadata": {},
   "outputs": [],
   "source": [
    "model = VariationalAutoEncoder(INPUT_DIM, H_DIM, Z_DIM).to(DEVICE)\n",
    "optimizer = optim.Adam(model.parameters(), lr=LR_RATE)\n",
    "loss_fn = nn.BCELoss(reduction=\"sum\")"
   ]
  },
  {
   "cell_type": "code",
   "execution_count": 9,
   "id": "00df5055-b84e-4d3d-9563-4f85b009530f",
   "metadata": {},
   "outputs": [
    {
     "name": "stderr",
     "output_type": "stream",
     "text": [
      "1875it [00:05, 345.71it/s, loss=5.24e+3]\n",
      "1875it [00:05, 348.38it/s, loss=4.96e+3]\n",
      "1875it [00:05, 344.50it/s, loss=4.84e+3]\n",
      "1875it [00:05, 335.69it/s, loss=4.29e+3]\n",
      "1875it [00:05, 351.17it/s, loss=4.42e+3]\n",
      "1875it [00:06, 307.87it/s, loss=4.27e+3]\n",
      "1875it [00:05, 335.41it/s, loss=3.9e+3] \n",
      "1875it [00:05, 343.22it/s, loss=4.14e+3]\n",
      "1875it [00:05, 338.09it/s, loss=4.32e+3]\n",
      "1875it [00:05, 338.45it/s, loss=3.94e+3]\n"
     ]
    }
   ],
   "source": [
    "# start training\n",
    "for epoch in range(NUM_EPOCHS):\n",
    "    loop = tqdm(enumerate(train_loader)) # to get progress bar\n",
    "    for i, (x, _) in loop:\n",
    "        # forward pass\n",
    "        x = x.to(DEVICE).view(x.shape[0], INPUT_DIM) # reshape input dimension (can also use reshape)\n",
    "        x_reconstructed, mu, sigma = model(x)\n",
    "\n",
    "        # compute loss\n",
    "        reconstruction_loss = loss_fn(x_reconstructed, x)\n",
    "        kl_div = -torch.sum(1 + torch.log(sigma.pow(2)) - mu.pow(2) - sigma.pow(2))\n",
    "\n",
    "        # back prop\n",
    "        loss = reconstruction_loss + kl_div\n",
    "        optimizer.zero_grad()\n",
    "        loss.backward()\n",
    "        optimizer.step()\n",
    "        loop.set_postfix(loss=loss.item())"
   ]
  },
  {
   "cell_type": "code",
   "execution_count": 53,
   "id": "2cbb4c42-fa63-4ad5-8325-cdcf1a9a2c80",
   "metadata": {},
   "outputs": [],
   "source": [
    "# how to do inference\n",
    "def inference(digit, num_examples=1):\n",
    "    images = []\n",
    "    idx = 0\n",
    "    for x, y in dataset:\n",
    "        if y == idx:\n",
    "            images.append(x)\n",
    "            idx += 1\n",
    "        if idx == 10:\n",
    "            break\n",
    "\n",
    "    encodings_digit = []\n",
    "    for d in range(10):\n",
    "        with torch.no_grad():\n",
    "            mu, sigma = model.encode(images[d].view(1, 784))\n",
    "        encodings_digit.append((mu, sigma))\n",
    "\n",
    "    # Create the output folder if it doesn't exist\n",
    "    output_dir = \"generated_digits\"\n",
    "    os.makedirs(output_dir, exist_ok=True)\n",
    "    \n",
    "    mu, sigma = encodings_digit[digit]\n",
    "    for example in range(num_examples):\n",
    "        epsilon = torch.randn_like(sigma)\n",
    "        z = mu + sigma * epsilon\n",
    "        out = model.decode(z)\n",
    "        out = out.view(-1, 1, 28, 28) # PyTorch tensor method to reshape tensor (-1 is the placeholder to auto infer the dim)\n",
    "        save_image(out, os.path.join(output_dir, f\"generated_{digit}_ex{example}.png\"))\n",
    "        "
   ]
  },
  {
   "cell_type": "code",
   "execution_count": 54,
   "id": "afeebc99-b867-421d-9218-8e7d95243634",
   "metadata": {},
   "outputs": [],
   "source": [
    "for idx in range(10):\n",
    "    inference(idx, num_examples=5)"
   ]
  },
  {
   "cell_type": "code",
   "execution_count": null,
   "id": "680ffd79-e36f-470f-ae20-6bfa43055e5a",
   "metadata": {},
   "outputs": [],
   "source": []
  }
 ],
 "metadata": {
  "kernelspec": {
   "display_name": "Python 3 (ipykernel)",
   "language": "python",
   "name": "python3"
  },
  "language_info": {
   "codemirror_mode": {
    "name": "ipython",
    "version": 3
   },
   "file_extension": ".py",
   "mimetype": "text/x-python",
   "name": "python",
   "nbconvert_exporter": "python",
   "pygments_lexer": "ipython3",
   "version": "3.9.6"
  }
 },
 "nbformat": 4,
 "nbformat_minor": 5
}
