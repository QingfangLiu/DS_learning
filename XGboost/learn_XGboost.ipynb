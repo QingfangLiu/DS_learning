{
  "nbformat": 4,
  "nbformat_minor": 0,
  "metadata": {
    "colab": {
      "provenance": [],
      "authorship_tag": "ABX9TyOG4dEFVQXxZz/FlPfNm6F8",
      "include_colab_link": true
    },
    "kernelspec": {
      "name": "python3",
      "display_name": "Python 3"
    },
    "language_info": {
      "name": "python"
    }
  },
  "cells": [
    {
      "cell_type": "markdown",
      "metadata": {
        "id": "view-in-github",
        "colab_type": "text"
      },
      "source": [
        "<a href=\"https://colab.research.google.com/github/QingfangLiu/DS_learning/blob/main/learn_XGboost.ipynb\" target=\"_parent\"><img src=\"https://colab.research.google.com/assets/colab-badge.svg\" alt=\"Open In Colab\"/></a>"
      ]
    },
    {
      "cell_type": "code",
      "execution_count": 1,
      "metadata": {
        "id": "c4AWS6PicBR_"
      },
      "outputs": [],
      "source": [
        "from sklearn.datasets import load_breast_cancer\n",
        "from sklearn.model_selection import train_test_split\n",
        "\n",
        "# use xgboost python package\n",
        "import xgboost as xgb"
      ]
    },
    {
      "cell_type": "code",
      "source": [
        "X, y = load_breast_cancer(return_X_y=True)\n",
        "X_train, X_test, y_train, y_test = train_test_split(X, y, stratify=y, random_state=94)"
      ],
      "metadata": {
        "id": "vEYxXaC0cJlr"
      },
      "execution_count": 2,
      "outputs": []
    },
    {
      "cell_type": "code",
      "source": [
        "# Use \"hist\" for constructing the trees, with early stopping enabled.\n",
        "clf = xgb.XGBClassifier(tree_method=\"hist\", early_stopping_rounds=2)\n",
        "# Fit the model, test sets are used for early stopping.\n",
        "clf.fit(X_train, y_train, eval_set=[(X_test, y_test)])\n",
        "# Save model into JSON format.\n",
        "clf.save_model(\"clf.json\")"
      ],
      "metadata": {
        "colab": {
          "base_uri": "https://localhost:8080/"
        },
        "id": "CncYIIa3cixG",
        "outputId": "d5623eb4-833d-47fa-bcb2-29052c21e26f"
      },
      "execution_count": 3,
      "outputs": [
        {
          "output_type": "stream",
          "name": "stdout",
          "text": [
            "[0]\tvalidation_0-logloss:0.45997\n",
            "[1]\tvalidation_0-logloss:0.34184\n",
            "[2]\tvalidation_0-logloss:0.27076\n",
            "[3]\tvalidation_0-logloss:0.22399\n",
            "[4]\tvalidation_0-logloss:0.19346\n",
            "[5]\tvalidation_0-logloss:0.16814\n",
            "[6]\tvalidation_0-logloss:0.15393\n",
            "[7]\tvalidation_0-logloss:0.14081\n",
            "[8]\tvalidation_0-logloss:0.13269\n",
            "[9]\tvalidation_0-logloss:0.12515\n",
            "[10]\tvalidation_0-logloss:0.11551\n",
            "[11]\tvalidation_0-logloss:0.11184\n",
            "[12]\tvalidation_0-logloss:0.10799\n",
            "[13]\tvalidation_0-logloss:0.10541\n",
            "[14]\tvalidation_0-logloss:0.10493\n",
            "[15]\tvalidation_0-logloss:0.10326\n",
            "[16]\tvalidation_0-logloss:0.10300\n",
            "[17]\tvalidation_0-logloss:0.10339\n",
            "[18]\tvalidation_0-logloss:0.10160\n",
            "[19]\tvalidation_0-logloss:0.09892\n",
            "[20]\tvalidation_0-logloss:0.09478\n",
            "[21]\tvalidation_0-logloss:0.09359\n",
            "[22]\tvalidation_0-logloss:0.09247\n",
            "[23]\tvalidation_0-logloss:0.09284\n"
          ]
        }
      ]
    },
    {
      "cell_type": "code",
      "source": [],
      "metadata": {
        "id": "ZhX8CNvOc52Z"
      },
      "execution_count": null,
      "outputs": []
    }
  ]
}