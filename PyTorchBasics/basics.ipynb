{
 "cells": [
  {
   "cell_type": "code",
   "execution_count": 1,
   "id": "cc1c1523-ff4a-432d-9394-7fa8b3df6acd",
   "metadata": {},
   "outputs": [
    {
     "name": "stdout",
     "output_type": "stream",
     "text": [
      "2.6.0\n"
     ]
    }
   ],
   "source": [
    "import torch\n",
    "print(torch.__version__)"
   ]
  },
  {
   "cell_type": "code",
   "execution_count": 15,
   "id": "921eca8e-9571-4596-9a3f-32d7b0809733",
   "metadata": {},
   "outputs": [],
   "source": [
    "# create a 0D tensor (scalar) from a Python integer  \n",
    "tensor0d = torch.tensor(1)\n",
    "\n",
    "# create a 1D tensor (vector) from a Python list\n",
    "tensor1d = torch.tensor([1, 2, 3])\n",
    "\n",
    "# create a 2D tensor from a nested Python list\n",
    "tensor2d = torch.tensor([[1, 2, 5], [3, 4, 9]])\n",
    "\n",
    "# create a 3D tensor from a nested Python list\n",
    "tensor3d = torch.tensor([[[1, 2], [3, 4]], [[5, 6], [7, 8]]])"
   ]
  },
  {
   "cell_type": "code",
   "execution_count": 3,
   "id": "5cc4d5c4-21b2-4fb3-9822-b3a412c79af2",
   "metadata": {},
   "outputs": [
    {
     "data": {
      "text/plain": [
       "tensor(1)"
      ]
     },
     "execution_count": 3,
     "metadata": {},
     "output_type": "execute_result"
    }
   ],
   "source": [
    "tensor0d"
   ]
  },
  {
   "cell_type": "code",
   "execution_count": 4,
   "id": "48b83083-0ee0-4b63-a85c-370439d85613",
   "metadata": {},
   "outputs": [
    {
     "data": {
      "text/plain": [
       "tensor([1, 2, 3])"
      ]
     },
     "execution_count": 4,
     "metadata": {},
     "output_type": "execute_result"
    }
   ],
   "source": [
    "tensor1d"
   ]
  },
  {
   "cell_type": "code",
   "execution_count": 16,
   "id": "d0cd27a4-d5a4-440c-bcd2-c9c4b5fb1f30",
   "metadata": {},
   "outputs": [
    {
     "data": {
      "text/plain": [
       "tensor([[1, 2, 5],\n",
       "        [3, 4, 9]])"
      ]
     },
     "execution_count": 16,
     "metadata": {},
     "output_type": "execute_result"
    }
   ],
   "source": [
    "tensor2d"
   ]
  },
  {
   "cell_type": "code",
   "execution_count": 6,
   "id": "1e5515be-19fa-407d-bb79-cf23e8ab351b",
   "metadata": {},
   "outputs": [
    {
     "data": {
      "text/plain": [
       "tensor([[[1, 2],\n",
       "         [3, 4]],\n",
       "\n",
       "        [[5, 6],\n",
       "         [7, 8]]])"
      ]
     },
     "execution_count": 6,
     "metadata": {},
     "output_type": "execute_result"
    }
   ],
   "source": [
    "tensor3d"
   ]
  },
  {
   "cell_type": "code",
   "execution_count": 7,
   "id": "03261115-fd71-402a-b037-cac45d81e061",
   "metadata": {},
   "outputs": [
    {
     "data": {
      "text/plain": [
       "torch.int64"
      ]
     },
     "execution_count": 7,
     "metadata": {},
     "output_type": "execute_result"
    }
   ],
   "source": [
    "tensor1d.dtype"
   ]
  },
  {
   "cell_type": "code",
   "execution_count": 8,
   "id": "6c68907b-439a-4abc-9c56-1fe32a96b7ac",
   "metadata": {},
   "outputs": [],
   "source": [
    "floatvec = torch.tensor([9.2, 4.9, 1.3])"
   ]
  },
  {
   "cell_type": "code",
   "execution_count": 9,
   "id": "8b15b6a0-c2c8-415c-a371-7b300257a83b",
   "metadata": {},
   "outputs": [
    {
     "data": {
      "text/plain": [
       "tensor([9.2000, 4.9000, 1.3000])"
      ]
     },
     "execution_count": 9,
     "metadata": {},
     "output_type": "execute_result"
    }
   ],
   "source": [
    "floatvec"
   ]
  },
  {
   "cell_type": "code",
   "execution_count": 10,
   "id": "2736c729-0b68-4fd8-a6ae-e8cfb9b62eea",
   "metadata": {},
   "outputs": [
    {
     "data": {
      "text/plain": [
       "torch.float32"
      ]
     },
     "execution_count": 10,
     "metadata": {},
     "output_type": "execute_result"
    }
   ],
   "source": [
    "floatvec.dtype"
   ]
  },
  {
   "cell_type": "code",
   "execution_count": 11,
   "id": "78ee941b-f0f8-461d-b9a3-8c4886b781c6",
   "metadata": {},
   "outputs": [
    {
     "data": {
      "text/plain": [
       "tensor([1., 2., 3.])"
      ]
     },
     "execution_count": 11,
     "metadata": {},
     "output_type": "execute_result"
    }
   ],
   "source": [
    "tensor1d.to(torch.float32)"
   ]
  },
  {
   "cell_type": "code",
   "execution_count": 20,
   "id": "69d021e5-8cb5-4d02-a1ae-9da5a9f933c5",
   "metadata": {},
   "outputs": [
    {
     "data": {
      "text/plain": [
       "tensor([[1, 2, 5],\n",
       "        [3, 4, 9]])"
      ]
     },
     "execution_count": 20,
     "metadata": {},
     "output_type": "execute_result"
    }
   ],
   "source": [
    "tensor2d"
   ]
  },
  {
   "cell_type": "code",
   "execution_count": 27,
   "id": "3721c926-6ef9-4b19-ae85-1349192026f4",
   "metadata": {},
   "outputs": [
    {
     "data": {
      "text/plain": [
       "tensor([[1, 2],\n",
       "        [5, 3],\n",
       "        [4, 9]])"
      ]
     },
     "execution_count": 27,
     "metadata": {},
     "output_type": "execute_result"
    }
   ],
   "source": [
    "# reshape tensor\n",
    "tensor2d.reshape(3,2)"
   ]
  },
  {
   "cell_type": "code",
   "execution_count": 29,
   "id": "1cae912a-0dae-4c68-8e6e-04756e3fedbf",
   "metadata": {},
   "outputs": [
    {
     "data": {
      "text/plain": [
       "tensor([[1, 2],\n",
       "        [5, 3],\n",
       "        [4, 9]])"
      ]
     },
     "execution_count": 29,
     "metadata": {},
     "output_type": "execute_result"
    }
   ],
   "source": [
    "# another way to reshape tensor (more commonly used)\n",
    "tensor2d.view(3,2)"
   ]
  },
  {
   "cell_type": "code",
   "execution_count": 31,
   "id": "025da5ee-bd76-4b61-b25c-fd02deed30cf",
   "metadata": {},
   "outputs": [
    {
     "data": {
      "text/plain": [
       "tensor([[1, 2, 5],\n",
       "        [3, 4, 9]])"
      ]
     },
     "execution_count": 31,
     "metadata": {},
     "output_type": "execute_result"
    }
   ],
   "source": [
    "# reshape does not affect original tensor\n",
    "tensor2d"
   ]
  },
  {
   "cell_type": "code",
   "execution_count": 33,
   "id": "637c2b7c-adc4-409b-a488-335d0e3ee212",
   "metadata": {},
   "outputs": [
    {
     "data": {
      "text/plain": [
       "tensor([1, 2, 5, 3, 4, 9])"
      ]
     },
     "execution_count": 33,
     "metadata": {},
     "output_type": "execute_result"
    }
   ],
   "source": [
    "# flatten a tensor\n",
    "tensor2d.flatten()"
   ]
  },
  {
   "cell_type": "code",
   "execution_count": 34,
   "id": "56946906-75a7-4173-9fa7-c00b374e505c",
   "metadata": {},
   "outputs": [
    {
     "data": {
      "text/plain": [
       "tensor([[1, 3],\n",
       "        [2, 4],\n",
       "        [5, 9]])"
      ]
     },
     "execution_count": 34,
     "metadata": {},
     "output_type": "execute_result"
    }
   ],
   "source": [
    "# transpose of a tensor\n",
    "tensor2d.T"
   ]
  },
  {
   "cell_type": "code",
   "execution_count": 24,
   "id": "a4325d70-8ff1-4405-92a4-0d8ef57ce611",
   "metadata": {},
   "outputs": [
    {
     "data": {
      "text/plain": [
       "tensor([[ 30,  56],\n",
       "        [ 56, 106]])"
      ]
     },
     "execution_count": 24,
     "metadata": {},
     "output_type": "execute_result"
    }
   ],
   "source": [
    "# matrix multiplication\n",
    "tensor2d.matmul(tensor2d.T)"
   ]
  },
  {
   "cell_type": "code",
   "execution_count": 26,
   "id": "3ab6ff23-f4ab-425c-ba59-f94e43ee0325",
   "metadata": {},
   "outputs": [
    {
     "data": {
      "text/plain": [
       "tensor([[ 30,  56],\n",
       "        [ 56, 106]])"
      ]
     },
     "execution_count": 26,
     "metadata": {},
     "output_type": "execute_result"
    }
   ],
   "source": [
    "# another way of matrix multiplication\n",
    "tensor2d @ tensor2d.T"
   ]
  },
  {
   "cell_type": "markdown",
   "id": "9334311d-248d-4762-ac30-8e48c75e00ce",
   "metadata": {},
   "source": [
    "### PyTorch's automatic differentiation engine (autograd)"
   ]
  },
  {
   "cell_type": "code",
   "execution_count": 37,
   "id": "48ba3bf1-01c1-4189-9691-4b01183f008e",
   "metadata": {},
   "outputs": [
    {
     "data": {
      "text/plain": [
       "tensor(7.)"
      ]
     },
     "execution_count": 37,
     "metadata": {},
     "output_type": "execute_result"
    }
   ],
   "source": [
    "# autograd example\n",
    "x = torch.tensor(2.0, requires_grad=True) # requires_grad asks PyTorch to track gradient through operations involving x\n",
    "y = x**2 + 3*x + 1 \n",
    "y.backward() # compute derivative of y with respect to x: 2*x+3\n",
    "x.grad # calculate the gradient"
   ]
  },
  {
   "cell_type": "code",
   "execution_count": 94,
   "id": "7dec71f5-0f83-46e1-9bd9-5eeca57c7bc6",
   "metadata": {},
   "outputs": [],
   "source": [
    "# an example of a logistic regression \n",
    "# partial derivative: the rate at which a function changes w.r.t. one variable\n",
    "# gradient: a vector of all partial derivatives\n",
    "\n",
    "import torch.nn.functional as F\n",
    "from torch.autograd import grad # compute gradients manually\n",
    "\n",
    "y = torch.tensor([1.0]) # target label\n",
    "x1 = torch.tensor([1.1])\n",
    "w1 = torch.tensor([2.2], requires_grad=True)\n",
    "b = torch.tensor([0.0], requires_grad=True)\n",
    "\n",
    "z = x1 * w1 + b\n",
    "a = torch.sigmoid(z) # activation & output\n",
    "\n",
    "loss = F.binary_cross_entropy(a, y)"
   ]
  },
  {
   "cell_type": "code",
   "execution_count": 78,
   "id": "1fbdb67d-e41a-4a02-b9c7-cc13f7fa4598",
   "metadata": {},
   "outputs": [
    {
     "name": "stdout",
     "output_type": "stream",
     "text": [
      "(tensor([-0.0898]),)\n",
      "(tensor([-0.0817]),)\n"
     ]
    }
   ],
   "source": [
    "# manual gradient calculation\n",
    "# pytorch uses autograd for this via chain rule\n",
    "grad_L_w1 = grad(loss, w1, retain_graph=True)\n",
    "grad_L_b = grad(loss, b, retain_graph=True)\n",
    "\n",
    "print(grad_L_w1)\n",
    "print(grad_L_b)"
   ]
  },
  {
   "cell_type": "code",
   "execution_count": 97,
   "id": "0a5f1875-e986-47e9-8e90-bc9662b75a7c",
   "metadata": {},
   "outputs": [
    {
     "name": "stdout",
     "output_type": "stream",
     "text": [
      "tensor([-0.2695])\n",
      "tensor([-0.2450])\n"
     ]
    }
   ],
   "source": [
    "loss.backward(retain_graph=True) # gradients will be accumulated if rerunning this\n",
    "print(w1.grad)\n",
    "print(b.grad)"
   ]
  },
  {
   "cell_type": "markdown",
   "id": "62657506-ec70-4e03-83ca-c5111291c9fb",
   "metadata": {},
   "source": [
    "### implement a neural network module"
   ]
  },
  {
   "cell_type": "code",
   "execution_count": 98,
   "id": "3d0215e7-ec0f-424c-906d-5f1d69d7bead",
   "metadata": {},
   "outputs": [],
   "source": [
    "class NeuralNetwork(torch.nn.Module):\n",
    "    def __init__(self, num_inputs, num_outputs):\n",
    "        super().__init__()\n",
    "        self.layers = torch.nn.Sequential(\n",
    "\n",
    "            # 1st hidden layer\n",
    "            torch.nn.Linear(num_inputs, 30),\n",
    "            torch.nn.ReLU(),\n",
    "\n",
    "            # 2nd hidden layer\n",
    "            torch.nn.Linear(30, 20),\n",
    "            torch.nn.ReLU(),\n",
    "\n",
    "            # output layer\n",
    "            torch.nn.Linear(20, num_outputs),\n",
    "        )\n",
    "\n",
    "    def forward(self, x):\n",
    "        logits = self.layers(x)\n",
    "        return logits"
   ]
  },
  {
   "cell_type": "code",
   "execution_count": 99,
   "id": "9fa17fe9-2862-444e-8e52-95f9fc2b3072",
   "metadata": {},
   "outputs": [],
   "source": [
    "model = NeuralNetwork(50, 3)"
   ]
  },
  {
   "cell_type": "code",
   "execution_count": 100,
   "id": "36e1a5cc-1056-4740-a19d-9c620aa24cad",
   "metadata": {},
   "outputs": [
    {
     "name": "stdout",
     "output_type": "stream",
     "text": [
      "NeuralNetwork(\n",
      "  (layers): Sequential(\n",
      "    (0): Linear(in_features=50, out_features=30, bias=True)\n",
      "    (1): ReLU()\n",
      "    (2): Linear(in_features=30, out_features=20, bias=True)\n",
      "    (3): ReLU()\n",
      "    (4): Linear(in_features=20, out_features=3, bias=True)\n",
      "  )\n",
      ")\n"
     ]
    }
   ],
   "source": [
    "print(model)"
   ]
  },
  {
   "cell_type": "code",
   "execution_count": 107,
   "id": "85d205b7-6069-4e2a-9ca8-86f8002a3d36",
   "metadata": {},
   "outputs": [
    {
     "data": {
      "text/plain": [
       "2213"
      ]
     },
     "execution_count": 107,
     "metadata": {},
     "output_type": "execute_result"
    }
   ],
   "source": [
    "# total number of parameters\n",
    "sum(p.numel() for p in model.parameters())"
   ]
  },
  {
   "cell_type": "code",
   "execution_count": 106,
   "id": "1cf0f88b-695c-47ae-bc3c-3efb85fd19c2",
   "metadata": {},
   "outputs": [
    {
     "data": {
      "text/plain": [
       "2213"
      ]
     },
     "execution_count": 106,
     "metadata": {},
     "output_type": "execute_result"
    }
   ],
   "source": [
    "# total number of trainable parameters\n",
    "# part of the model may be frozen for some reason\n",
    "sum(p.numel() for p in model.parameters() if p.requires_grad)"
   ]
  },
  {
   "cell_type": "code",
   "execution_count": 111,
   "id": "bfdde08b-679d-4d9c-aca7-4f76f5f9b086",
   "metadata": {},
   "outputs": [
    {
     "name": "stdout",
     "output_type": "stream",
     "text": [
      "layers.0.weight: 1500 parameters\n",
      "layers.0.bias: 30 parameters\n",
      "layers.2.weight: 600 parameters\n",
      "layers.2.bias: 20 parameters\n",
      "layers.4.weight: 60 parameters\n",
      "layers.4.bias: 3 parameters\n"
     ]
    }
   ],
   "source": [
    "for name, param in model.named_parameters():\n",
    "    print(f\"{name}: {param.numel()} parameters\")"
   ]
  },
  {
   "cell_type": "code",
   "execution_count": 112,
   "id": "0f0cf015-ddde-465d-899f-2fe9f18d0443",
   "metadata": {},
   "outputs": [
    {
     "data": {
      "text/plain": [
       "Sequential(\n",
       "  (0): Linear(in_features=50, out_features=30, bias=True)\n",
       "  (1): ReLU()\n",
       "  (2): Linear(in_features=30, out_features=20, bias=True)\n",
       "  (3): ReLU()\n",
       "  (4): Linear(in_features=20, out_features=3, bias=True)\n",
       ")"
      ]
     },
     "execution_count": 112,
     "metadata": {},
     "output_type": "execute_result"
    }
   ],
   "source": [
    "model.layers"
   ]
  },
  {
   "cell_type": "code",
   "execution_count": 117,
   "id": "e0259432-75b8-4de2-b751-840e8129b4e3",
   "metadata": {},
   "outputs": [
    {
     "data": {
      "text/plain": [
       "torch.Size([30, 50])"
      ]
     },
     "execution_count": 117,
     "metadata": {},
     "output_type": "execute_result"
    }
   ],
   "source": [
    "# each neuron is placed in a row to get dot product with the input features\n",
    "# so for weights: # of rows = # of neurons\n",
    "# but to do matrix multiplication, use transpose of weight\n",
    "model.layers[0].weight.shape"
   ]
  },
  {
   "cell_type": "code",
   "execution_count": 118,
   "id": "43fcfc30-32e5-4998-92cb-fd42f5dcaf8c",
   "metadata": {},
   "outputs": [
    {
     "data": {
      "text/plain": [
       "torch.Size([30])"
      ]
     },
     "execution_count": 118,
     "metadata": {},
     "output_type": "execute_result"
    }
   ],
   "source": [
    "model.layers[0].bias.shape"
   ]
  },
  {
   "cell_type": "code",
   "execution_count": 119,
   "id": "5e0b563a-6a71-428f-bec3-290ae4b4f892",
   "metadata": {},
   "outputs": [
    {
     "name": "stdout",
     "output_type": "stream",
     "text": [
      "Parameter containing:\n",
      "tensor([[-0.0577,  0.0047, -0.0702,  ...,  0.0222,  0.1260,  0.0865],\n",
      "        [ 0.0502,  0.0307,  0.0333,  ...,  0.0951,  0.1134, -0.0297],\n",
      "        [ 0.1077, -0.1108,  0.0122,  ...,  0.0108, -0.1049, -0.1063],\n",
      "        ...,\n",
      "        [-0.0787,  0.1259,  0.0803,  ...,  0.1218,  0.1303, -0.1351],\n",
      "        [ 0.1359,  0.0175, -0.0673,  ...,  0.0674,  0.0676,  0.1058],\n",
      "        [ 0.0790,  0.1343, -0.0293,  ...,  0.0344, -0.0971, -0.0509]],\n",
      "       requires_grad=True)\n"
     ]
    }
   ],
   "source": [
    "# if we want to reproduce the random initial values\n",
    "torch.manual_seed(123)\n",
    "model = NeuralNetwork(50, 3)\n",
    "print(model.layers[0].weight)"
   ]
  },
  {
   "cell_type": "code",
   "execution_count": 120,
   "id": "cb4d3544-8669-4a2e-a388-4b8f7082eaeb",
   "metadata": {},
   "outputs": [
    {
     "name": "stdout",
     "output_type": "stream",
     "text": [
      "tensor([[-0.1262,  0.1080, -0.1792]], grad_fn=<AddmmBackward0>)\n"
     ]
    }
   ],
   "source": [
    "torch.manual_seed(123)\n",
    "X = torch.rand(1, 50)\n",
    "out = model(X)\n",
    "print(out)"
   ]
  },
  {
   "cell_type": "code",
   "execution_count": 123,
   "id": "e8d47729-f7bc-4418-892a-e841e6cda104",
   "metadata": {},
   "outputs": [
    {
     "name": "stdout",
     "output_type": "stream",
     "text": [
      "tensor([[0.3113, 0.3934, 0.2952]])\n"
     ]
    }
   ],
   "source": [
    "# during inference (making predictions)\n",
    "# use this context manager to tell PyTorch not to track gradients\n",
    "with torch.no_grad():\n",
    "    out = torch.softmax(model(X), dim=1)\n",
    "print(out)"
   ]
  },
  {
   "cell_type": "code",
   "execution_count": 129,
   "id": "c98916ee-ba87-4713-b91f-f277716d063f",
   "metadata": {},
   "outputs": [],
   "source": [
    "# create toy datasets\n",
    "X_train = torch.tensor([\n",
    "    [-1.2, 3.1],\n",
    "    [-0.9, 2.9],\n",
    "    [-0.5, 2.6],\n",
    "    [2.3, -1.1],\n",
    "    [2.7, -1.5], # note the use of trailing comma\n",
    "])\n",
    "y_train = torch.tensor([0, 0, 0, 1, 1]) # PyTorch requires class labels to start from 0\n",
    "X_test = torch.tensor([\n",
    "    [-0.8, 2.8],\n",
    "    [2.6, -1.6],\n",
    "])\n",
    "y_test = torch.tensor([0, 1])\n"
   ]
  },
  {
   "cell_type": "code",
   "execution_count": 158,
   "id": "8b5cdf4a-597e-4e9b-aabe-7110fee683a5",
   "metadata": {},
   "outputs": [],
   "source": [
    "from torch.utils.data import Dataset # standard interface to use with DataLoader\n",
    "\n",
    "class ToyDataset(Dataset):\n",
    "    def __init__(self, X, y):\n",
    "        self.features = X\n",
    "        self.labels = y\n",
    "    def __getitem__(self, index):\n",
    "        one_x = self.features[index]\n",
    "        one_y = self.labels[index]\n",
    "        return one_x, one_y\n",
    "    def __len__(self):\n",
    "        return self.labels.shape[0]\n",
    "\n",
    "train_ds = ToyDataset(X_train, y_train)\n",
    "test_ds = ToyDataset(X_test, y_test)"
   ]
  },
  {
   "cell_type": "code",
   "execution_count": 166,
   "id": "fb84f917-681c-47f9-9d56-4654cc2d19e7",
   "metadata": {},
   "outputs": [],
   "source": [
    "from torch.utils.data import DataLoader\n",
    "torch.manual_seed(123) # note the scope of this random seed only affects the initial random state\n",
    "\n",
    "train_loader = DataLoader(\n",
    "    dataset = train_ds,\n",
    "    batch_size=2, # how many samples per batch\n",
    "    shuffle=True, # shuffle the dataset each epoch\n",
    "    num_workers=0, # to use multiple cpu workers to prepare data\n",
    "    drop_last=True,\n",
    ")\n",
    "\n",
    "test_loader = DataLoader(\n",
    "    dataset=test_ds,\n",
    "    batch_size=2,\n",
    "    shuffle=True,\n",
    "    num_workers=0,\n",
    ")"
   ]
  },
  {
   "cell_type": "code",
   "execution_count": 167,
   "id": "28def071-1468-4327-bcaa-6aa5c05c7b4b",
   "metadata": {},
   "outputs": [
    {
     "name": "stdout",
     "output_type": "stream",
     "text": [
      "Batch 1: tensor([[ 2.3000, -1.1000],\n",
      "        [-0.9000,  2.9000]]) tensor([1, 0])\n",
      "Batch 2: tensor([[-1.2000,  3.1000],\n",
      "        [-0.5000,  2.6000]]) tensor([0, 0])\n"
     ]
    }
   ],
   "source": [
    "for idx, (x, y) in enumerate(train_loader): # note rerunning this will give different results due to shuffle=True\n",
    "    print(f\"Batch {idx+1}:\", x, y)"
   ]
  },
  {
   "cell_type": "markdown",
   "id": "f2e3448b-ff01-478d-b9bb-723548dae449",
   "metadata": {},
   "source": [
    "### A typical training loop"
   ]
  },
  {
   "cell_type": "code",
   "execution_count": 181,
   "id": "745c4603-2c5d-4814-880d-92a71f31c7b8",
   "metadata": {},
   "outputs": [
    {
     "name": "stdout",
     "output_type": "stream",
     "text": [
      "Epoch: 001/003 | Batch 001/002 | Train/Val loss: 0.75\n",
      "Epoch: 001/003 | Batch 002/002 | Train/Val loss: 0.65\n",
      "Epoch: 002/003 | Batch 001/002 | Train/Val loss: 0.44\n",
      "Epoch: 002/003 | Batch 002/002 | Train/Val loss: 0.13\n",
      "Epoch: 003/003 | Batch 001/002 | Train/Val loss: 0.03\n",
      "Epoch: 003/003 | Batch 002/002 | Train/Val loss: 0.00\n"
     ]
    }
   ],
   "source": [
    "import torch.nn.functional as F\n",
    "\n",
    "torch.manual_seed(123)\n",
    "model = NeuralNetwork(num_inputs=2, num_outputs=2)\n",
    "optimizer = torch.optim.SGD(model.parameters(), lr=0.5)\n",
    "\n",
    "num_epochs = 3\n",
    "\n",
    "for epoch in range(num_epochs):\n",
    "\n",
    "    model.train() # more useful when having dropout, batch normalization layers\n",
    "    for batch_idx, (features, labels) in enumerate(train_loader):\n",
    "        \n",
    "        logits = model(features)\n",
    "        loss = F.cross_entropy(logits, labels)\n",
    "        optimizer.zero_grad() # important to reset gradient to zero (default is to accumulate gradients)\n",
    "        loss.backward()\n",
    "        optimizer.step()\n",
    "\n",
    "        print(f\"Epoch: {epoch+1:03d}/{num_epochs:03d}\"\n",
    "              f\" | Batch {batch_idx+1:03d}/{len(train_loader):03d}\"\n",
    "              f\" | Train/Val loss: {loss:.2f}\")\n",
    "\n",
    "    model.eval()\n"
   ]
  },
  {
   "cell_type": "code",
   "execution_count": 183,
   "id": "64752767-e341-4238-9b18-1f5a324060cd",
   "metadata": {},
   "outputs": [
    {
     "name": "stdout",
     "output_type": "stream",
     "text": [
      "tensor([[ 2.8569, -4.1618],\n",
      "        [ 2.5382, -3.7548],\n",
      "        [ 2.0944, -3.1820],\n",
      "        [-1.4814,  1.4816],\n",
      "        [-1.7176,  1.7342]])\n",
      "tensor([[9.9911e-01, 8.9419e-04],\n",
      "        [9.9815e-01, 1.8458e-03],\n",
      "        [9.9491e-01, 5.0852e-03],\n",
      "        [4.9127e-02, 9.5087e-01],\n",
      "        [3.0714e-02, 9.6929e-01]])\n",
      "tensor([0, 0, 0, 1, 1])\n"
     ]
    }
   ],
   "source": [
    "with torch.no_grad():\n",
    "    outputs = model(X_train)\n",
    "print(outputs)\n",
    "\n",
    "probas = torch.softmax(outputs, dim=1)\n",
    "print(probas)\n",
    "\n",
    "predictions = torch.argmax(probas, dim=1)\n",
    "print(predictions)\n"
   ]
  },
  {
   "cell_type": "code",
   "execution_count": 186,
   "id": "06f6a0ae-c94b-4387-9388-9480ef428e69",
   "metadata": {},
   "outputs": [],
   "source": [
    "# how to save a model to reuse it later?\n",
    "torch.save(model.state_dict(), \"model.pth\") # save model trained parameters (pth stands for pytorch)"
   ]
  },
  {
   "cell_type": "code",
   "execution_count": 185,
   "id": "c82014ee-3dfa-4afa-9da0-a340bc60d1f0",
   "metadata": {},
   "outputs": [
    {
     "data": {
      "text/plain": [
       "<All keys matched successfully>"
      ]
     },
     "execution_count": 185,
     "metadata": {},
     "output_type": "execute_result"
    }
   ],
   "source": [
    "# load the model\n",
    "model = NeuralNetwork(2, 2)\n",
    "model.load_state_dict(torch.load(\"model.pth\", weights_only=True))"
   ]
  },
  {
   "cell_type": "code",
   "execution_count": null,
   "id": "0bf1116a-ebde-4aed-be5d-af37203c869d",
   "metadata": {},
   "outputs": [],
   "source": []
  }
 ],
 "metadata": {
  "kernelspec": {
   "display_name": "Python 3 (ipykernel)",
   "language": "python",
   "name": "python3"
  },
  "language_info": {
   "codemirror_mode": {
    "name": "ipython",
    "version": 3
   },
   "file_extension": ".py",
   "mimetype": "text/x-python",
   "name": "python",
   "nbconvert_exporter": "python",
   "pygments_lexer": "ipython3",
   "version": "3.13.5"
  }
 },
 "nbformat": 4,
 "nbformat_minor": 5
}
